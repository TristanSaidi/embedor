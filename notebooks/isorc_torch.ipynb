{
 "cells": [
  {
   "cell_type": "code",
   "execution_count": null,
   "metadata": {},
   "outputs": [],
   "source": [
    "from src.data.data import *\n",
    "from src.orcml import *\n",
    "from src.plotting import *\n",
    "from src.utils.graph_utils import *\n",
    "from src.isorc import *\n",
    "from src.utils.embeddings import *\n",
    "from sklearn.manifold import TSNE\n",
    "import umap\n",
    "%load_ext autoreload\n",
    "\n",
    "exp_params = {\n",
    "    'dataset': '3D_swiss_roll',\n",
    "    'mode': 'nbrs',\n",
    "    'n_neighbors': 15,\n",
    "    'epsilon': None,\n",
    "    'lda': 0.01,\n",
    "    'delta': 0.8\n",
    "}"
   ]
  },
  {
   "cell_type": "code",
   "execution_count": null,
   "metadata": {},
   "outputs": [],
   "source": [
    "n_points = 2500\n",
    "noise = 6.2\n",
    "noise_thresh = 2.2\n",
    "\n",
    "dataset_info = {\n",
    "    'name': '3D_swiss_roll',\n",
    "    'n_points': n_points,\n",
    "    'noise': noise,\n",
    "    'noise_thresh': noise_thresh\n",
    "}\n",
    "\n",
    "return_dict = swiss_roll(n_points=n_points, noise=noise, noise_thresh=noise_thresh, supersample=True, dim=3, hole=False)\n",
    "swiss_roll_data, color, cluster, swiss_roll_supersample, subsample_indices = return_dict['data'], return_dict['color'], return_dict['cluster'], return_dict['data_supersample'], return_dict['subsample_indices']"
   ]
  },
  {
   "cell_type": "code",
   "execution_count": null,
   "metadata": {},
   "outputs": [],
   "source": [
    "orcmanl = ORCManL(\n",
    "    exp_params=exp_params,\n",
    "    verbose=True,\n",
    "    reattach=True\n",
    ")\n",
    "orcmanl.fit(swiss_roll_data)"
   ]
  },
  {
   "cell_type": "code",
   "execution_count": null,
   "metadata": {},
   "outputs": [],
   "source": [
    "%autoreload 2\n",
    "import gc\n",
    "torch.cuda.empty_cache()\n",
    "gc.collect()\n",
    "\n",
    "isorc = ISORC(orcmanl, init='spectral', dim=2)\n",
    "X_opt, X_frames = isorc.fit(lr=0.2, n_iter=2000)"
   ]
  },
  {
   "cell_type": "code",
   "execution_count": null,
   "metadata": {},
   "outputs": [],
   "source": [
    "%autoreload 2\n",
    "plot_graph_2D(X_opt, orcmanl.G, title=None)"
   ]
  },
  {
   "cell_type": "code",
   "execution_count": null,
   "metadata": {},
   "outputs": [],
   "source": [
    "X_tsne = tsne(orcmanl.A, n_components=2)\n",
    "plot_graph_2D(X_tsne, orcmanl.G, title=None)"
   ]
  },
  {
   "cell_type": "code",
   "execution_count": null,
   "metadata": {},
   "outputs": [],
   "source": [
    "# umap\n",
    "X_umap = UMAP(orcmanl.A, n_components=2, n_neighbors=exp_params['n_neighbors'])\n",
    "plot_graph_2D(X_umap, orcmanl.G, title=None)"
   ]
  },
  {
   "cell_type": "code",
   "execution_count": null,
   "metadata": {},
   "outputs": [],
   "source": [
    "print(distortion(X_opt, isorc.intracluster_mask.cpu().numpy().copy(), D_ambient=isorc.geo_dist.cpu().numpy()).copy())\n",
    "print(distortion(X_tsne, isorc.intracluster_mask.cpu().numpy().copy(), D_ambient=isorc.geo_dist.cpu().numpy()).copy())\n",
    "print(distortion(X_umap, isorc.intracluster_mask.cpu().numpy().copy(), D_ambient=isorc.geo_dist.cpu().numpy()).copy())"
   ]
  },
  {
   "cell_type": "code",
   "execution_count": null,
   "metadata": {},
   "outputs": [],
   "source": [
    "# concentric circles\n",
    "n_points = 2500\n",
    "factor = 0.385\n",
    "noise = 0.09\n",
    "noise_thresh = 0.27\n",
    "\n",
    "exp_params = {\n",
    "    'mode': 'nbrs',\n",
    "    'n_neighbors': 20,\n",
    "    'epsilon': None,\n",
    "    'lda': 0.01,\n",
    "    'delta': 0.8\n",
    "}\n",
    "\n",
    "return_dict = concentric_circles(n_points, factor, noise, noise_thresh, supersample_factor=1.0, dim=3)"
   ]
  },
  {
   "cell_type": "code",
   "execution_count": null,
   "metadata": {},
   "outputs": [],
   "source": [
    "orcmanl = ORCManL(\n",
    "    exp_params=exp_params,\n",
    "    verbose=True,\n",
    "    reattach=True\n",
    ")\n",
    "orcmanl.fit(return_dict['data'])"
   ]
  },
  {
   "cell_type": "code",
   "execution_count": null,
   "metadata": {},
   "outputs": [],
   "source": [
    "%autoreload 2\n",
    "import gc\n",
    "torch.cuda.empty_cache()\n",
    "gc.collect()\n",
    "isorc = ISORC(orcmanl)\n",
    "X_opt, X_frames = isorc.fit(lr=0.2, n_iter=1000)"
   ]
  },
  {
   "cell_type": "code",
   "execution_count": null,
   "metadata": {},
   "outputs": [],
   "source": [
    "plot_graph_2D(X_opt, orcmanl.G, title=None)"
   ]
  },
  {
   "cell_type": "code",
   "execution_count": null,
   "metadata": {},
   "outputs": [],
   "source": [
    "X_tsne = TSNE(n_components=2).fit_transform(return_dict['data'])\n",
    "plot_graph_2D(X_tsne, orcmanl.G, title=None)"
   ]
  },
  {
   "cell_type": "code",
   "execution_count": null,
   "metadata": {},
   "outputs": [],
   "source": [
    "\n",
    "X_umap = umap.UMAP(n_neighbors=exp_params['n_neighbors'], n_components=2).fit_transform(return_dict['data'])\n",
    "plot_graph_2D(X_umap, orcmanl.G, title=None)"
   ]
  },
  {
   "cell_type": "code",
   "execution_count": null,
   "metadata": {},
   "outputs": [],
   "source": [
    "print(distortion(X_opt, isorc.intracluster_mask.cpu().numpy().copy(), D_ambient=isorc.geo_dist.cpu().numpy()).copy())\n",
    "print(distortion(X_tsne, isorc.intracluster_mask.cpu().numpy().copy(), D_ambient=isorc.geo_dist.cpu().numpy()).copy())\n",
    "print(distortion(X_umap, isorc.intracluster_mask.cpu().numpy().copy(), D_ambient=isorc.geo_dist.cpu().numpy()).copy())"
   ]
  },
  {
   "cell_type": "code",
   "execution_count": null,
   "metadata": {},
   "outputs": [],
   "source": [
    "# torus\n",
    "n_points = 3000\n",
    "noise = 0.4\n",
    "noise_threshold = 0.75\n",
    "\n",
    "return_dict = torus(n_points=n_points, noise=noise, noise_thresh=noise_threshold, supersample=True, double=True, supersample_factor=1.0)"
   ]
  },
  {
   "cell_type": "code",
   "execution_count": null,
   "metadata": {},
   "outputs": [],
   "source": [
    "orcmanl = ORCManL(\n",
    "    exp_params=exp_params,\n",
    "    verbose=True,\n",
    "    reattach=True\n",
    ")\n",
    "orcmanl.fit(return_dict['data'])"
   ]
  },
  {
   "cell_type": "code",
   "execution_count": null,
   "metadata": {},
   "outputs": [],
   "source": [
    "%autoreload 2\n",
    "import gc\n",
    "torch.cuda.empty_cache()\n",
    "gc.collect()\n",
    "\n",
    "isorc = ISORC(orcmanl, dim=2)\n",
    "X_opt, X_frames = isorc.fit(lr=0.2, n_iter=2000)"
   ]
  },
  {
   "cell_type": "code",
   "execution_count": null,
   "metadata": {},
   "outputs": [],
   "source": [
    "plot_graph_2D(X_opt, orcmanl.G, title=None)"
   ]
  },
  {
   "cell_type": "code",
   "execution_count": null,
   "metadata": {},
   "outputs": [],
   "source": [
    "X_tsne = TSNE(n_components=2).fit_transform(return_dict['data'])\n",
    "plot_graph_2D(X_tsne, orcmanl.G, title=None)"
   ]
  },
  {
   "cell_type": "code",
   "execution_count": null,
   "metadata": {},
   "outputs": [],
   "source": [
    "X_umap = umap.UMAP(n_neighbors=exp_params['n_neighbors'], n_components=2).fit_transform(return_dict['data'])\n",
    "plot_graph_2D(X_umap, orcmanl.G, title=None)"
   ]
  },
  {
   "cell_type": "code",
   "execution_count": null,
   "metadata": {},
   "outputs": [],
   "source": [
    "print(distortion(X_opt, isorc.intracluster_mask.cpu().numpy().copy(), D_ambient=isorc.geo_dist.cpu().numpy()).copy())\n",
    "print(distortion(X_tsne, isorc.intracluster_mask.cpu().numpy().copy(), D_ambient=isorc.geo_dist.cpu().numpy()).copy())\n",
    "print(distortion(X_umap, isorc.intracluster_mask.cpu().numpy().copy(), D_ambient=isorc.geo_dist.cpu().numpy()).copy())"
   ]
  },
  {
   "cell_type": "code",
   "execution_count": null,
   "metadata": {},
   "outputs": [],
   "source": [
    "# quadratics\n",
    "n_points = 2000\n",
    "noise = 0.20\n",
    "noise_thresh = 0.45\n",
    "\n",
    "return_dict = quadratics(n_points=n_points, noise=noise, noise_thresh=noise_thresh, supersample=True)"
   ]
  },
  {
   "cell_type": "code",
   "execution_count": null,
   "metadata": {},
   "outputs": [],
   "source": [
    "orcmanl = ORCManL(\n",
    "    exp_params=exp_params,\n",
    "    verbose=True,\n",
    "    reattach=True\n",
    ")\n",
    "orcmanl.fit(return_dict['data'])"
   ]
  },
  {
   "cell_type": "code",
   "execution_count": null,
   "metadata": {},
   "outputs": [],
   "source": [
    "%autoreload 2\n",
    "import gc\n",
    "torch.cuda.empty_cache()\n",
    "gc.collect()\n",
    "\n",
    "isorc = ISORC(orcmanl, dim=2, init='spectral')\n",
    "X_opt, X_frames = isorc.fit(lr=0.2, n_iter=1000)"
   ]
  },
  {
   "cell_type": "code",
   "execution_count": null,
   "metadata": {},
   "outputs": [],
   "source": [
    "%autoreload 2\n",
    "plot_graph_2D(X_opt, orcmanl.G, title=None)"
   ]
  },
  {
   "cell_type": "code",
   "execution_count": null,
   "metadata": {},
   "outputs": [],
   "source": [
    "X_tsne = TSNE(n_components=2).fit_transform(return_dict['data'])\n",
    "plot_graph_2D(X_tsne, orcmanl.G, title=None)"
   ]
  },
  {
   "cell_type": "code",
   "execution_count": null,
   "metadata": {},
   "outputs": [],
   "source": [
    "X_umap = umap.UMAP(n_neighbors=exp_params['n_neighbors'], n_components=2).fit_transform(return_dict['data'])\n",
    "plot_graph_2D(X_umap, orcmanl.G, title=None)"
   ]
  },
  {
   "cell_type": "code",
   "execution_count": null,
   "metadata": {},
   "outputs": [],
   "source": [
    "print(distortion(X_opt, isorc.intracluster_mask.cpu().numpy().copy(), D_ambient=isorc.geo_dist.cpu().numpy()).copy())\n",
    "print(distortion(X_tsne, isorc.intracluster_mask.cpu().numpy().copy(), D_ambient=isorc.geo_dist.cpu().numpy()).copy())\n",
    "print(distortion(X_umap, isorc.intracluster_mask.cpu().numpy().copy(), D_ambient=isorc.geo_dist.cpu().numpy()).copy())"
   ]
  },
  {
   "cell_type": "code",
   "execution_count": null,
   "metadata": {},
   "outputs": [],
   "source": [
    "# mixture of gaussians\n",
    "n_points = 4000\n",
    "noise_thresh = 0.45\n",
    "noise = 0.175\n",
    "\n",
    "return_dict = mixture_of_gaussians(n_points=n_points, noise=noise, noise_thresh=noise_thresh, supersample=True)"
   ]
  },
  {
   "cell_type": "code",
   "execution_count": null,
   "metadata": {},
   "outputs": [],
   "source": [
    "orcmanl = ORCManL(\n",
    "    exp_params=exp_params,\n",
    "    verbose=True,\n",
    "    reattach=True\n",
    ")\n",
    "orcmanl.fit(return_dict['data'])\n"
   ]
  },
  {
   "cell_type": "code",
   "execution_count": null,
   "metadata": {},
   "outputs": [],
   "source": [
    "isorc = ISORC(orcmanl, dim=2, init='spectral')\n",
    "X_opt, X_frames = isorc.fit(lr=0.2, n_iter=1000)"
   ]
  },
  {
   "cell_type": "code",
   "execution_count": null,
   "metadata": {},
   "outputs": [],
   "source": [
    "plot_graph_2D(X_opt, orcmanl.G, title=None)"
   ]
  },
  {
   "cell_type": "code",
   "execution_count": null,
   "metadata": {},
   "outputs": [],
   "source": [
    "X_tsne = TSNE(n_components=2).fit_transform(return_dict['data'])\n",
    "plot_graph_2D(X_tsne, orcmanl.G, title=None)"
   ]
  },
  {
   "cell_type": "code",
   "execution_count": null,
   "metadata": {},
   "outputs": [],
   "source": [
    "X_umap = umap.UMAP(n_neighbors=exp_params['n_neighbors'], n_components=2).fit_transform(return_dict['data'])\n",
    "plot_graph_2D(X_umap, orcmanl.G, title=None)"
   ]
  },
  {
   "cell_type": "code",
   "execution_count": null,
   "metadata": {},
   "outputs": [],
   "source": [
    "print(distortion(X_opt, isorc.intracluster_mask.cpu().numpy().copy(), D_ambient=isorc.geo_dist.cpu().numpy()).copy())\n",
    "print(distortion(X_tsne, isorc.intracluster_mask.cpu().numpy().copy(), D_ambient=isorc.geo_dist.cpu().numpy()).copy())\n",
    "print(distortion(X_umap, isorc.intracluster_mask.cpu().numpy().copy(), D_ambient=isorc.geo_dist.cpu().numpy()).copy())"
   ]
  },
  {
   "cell_type": "code",
   "execution_count": null,
   "metadata": {},
   "outputs": [],
   "source": []
  }
 ],
 "metadata": {
  "kernelspec": {
   "display_name": "isorc",
   "language": "python",
   "name": "python3"
  },
  "language_info": {
   "codemirror_mode": {
    "name": "ipython",
    "version": 3
   },
   "file_extension": ".py",
   "mimetype": "text/x-python",
   "name": "python",
   "nbconvert_exporter": "python",
   "pygments_lexer": "ipython3",
   "version": "3.8.10"
  }
 },
 "nbformat": 4,
 "nbformat_minor": 2
}

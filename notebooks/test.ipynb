{
 "cells": [
  {
   "cell_type": "code",
   "execution_count": null,
   "metadata": {},
   "outputs": [],
   "source": [
    "from src.data.data import *\n",
    "from src.orcml import *\n",
    "from src.plotting import *\n",
    "from src.utils.graph_utils import *\n",
    "from src.isorc import *\n",
    "from src.utils.embeddings import *\n",
    "from sklearn.manifold import TSNE\n",
    "import umap\n",
    "%load_ext autoreload\n",
    "\n",
    "exp_params = {\n",
    "    'mode': 'nbrs',\n",
    "    'n_neighbors': 15,\n",
    "    'epsilon': None,\n",
    "    'lda': 0.01,\n",
    "    'delta': 0.8\n",
    "}"
   ]
  },
  {
   "cell_type": "code",
   "execution_count": null,
   "metadata": {},
   "outputs": [],
   "source": [
    "n_points = 2500\n",
    "noise = 6.2\n",
    "noise_thresh = 2.2\n",
    "\n",
    "dataset_info = {\n",
    "    'name': '3D_swiss_roll',\n",
    "    'n_points': n_points,\n",
    "    'noise': noise,\n",
    "    'noise_thresh': noise_thresh\n",
    "}\n",
    "\n",
    "return_dict = swiss_roll(n_points=n_points, noise=noise, noise_thresh=noise_thresh, supersample=True, dim=3, hole=False)\n",
    "swiss_roll_data, color, cluster, swiss_roll_supersample, subsample_indices = return_dict['data'], return_dict['color'], return_dict['cluster'], return_dict['data_supersample'], return_dict['subsample_indices']"
   ]
  },
  {
   "cell_type": "code",
   "execution_count": null,
   "metadata": {},
   "outputs": [],
   "source": [
    "%autoreload 2\n",
    "orcmanl = ORCManL(\n",
    "    exp_params=exp_params,\n",
    "    verbose=True,\n",
    "    reattach=False,\n",
    "    nbrhood_size=1\n",
    ")\n",
    "orcmanl.fit(return_dict['data'])"
   ]
  },
  {
   "cell_type": "code",
   "execution_count": null,
   "metadata": {},
   "outputs": [],
   "source": [
    "def kernel_distances(k_ij, d_ij, tau):\n",
    "    \"\"\"\n",
    "    Computes the distance of an edge under the logarithmic barrier kernel \n",
    "    \"\"\"\n",
    "    return -1/tau * np.log(k_ij + 2) + (d_ij * tau + np.log(3))/tau\n",
    "\n",
    "def compute_kernel_distances(G, tau, rep_factor=10):\n",
    "    \"\"\"\n",
    "    Computes the distances of all edges in a graph under the logarithmic barrier kernel\n",
    "    \"\"\"\n",
    "    kdists = []\n",
    "    for u, v in G.edges():\n",
    "        k_ij = G[u][v]['ricciCurvature']\n",
    "        if G[u][v]['shortcut'] == 1:\n",
    "            G[u][v]['weight'] = G[u][v]['weight'] * rep_factor\n",
    "        d_ij = G[u][v]['weight']\n",
    "        G[u][v]['kernel_distance'] = kernel_distances(k_ij, d_ij, tau)\n",
    "        kdists.append(G[u][v]['kernel_distance'])\n",
    "        orcs.append(k_ij)\n",
    "    return G, kdists, orcs"
   ]
  },
  {
   "cell_type": "code",
   "execution_count": null,
   "metadata": {},
   "outputs": [],
   "source": [
    "G_orc = orcmanl.G_ann.copy()\n",
    "G_orc, kdists, orcs = compute_kernel_distances(G_orc, 0.1)"
   ]
  },
  {
   "cell_type": "code",
   "execution_count": null,
   "metadata": {},
   "outputs": [],
   "source": [
    "import numpy as np\n",
    "import networkx as nx\n",
    "from scipy.sparse.csgraph import shortest_path\n",
    "from multiprocessing import Pool\n",
    "\n",
    "def process_row(args):\n",
    "    \"\"\"Compute a single row of the APSP matrix.\"\"\"\n",
    "    i, predecessors, A_euc_distance, n = args\n",
    "    row_distances = np.zeros(n)\n",
    "    for j in range(n):\n",
    "        if i == j:\n",
    "            row_distances[j] = 0\n",
    "            continue\n",
    "        total_weight_A = 0\n",
    "        current = j\n",
    "        while current != i:\n",
    "            prev = predecessors[i, current]\n",
    "            if prev == -9999:  # Path does not exist\n",
    "                total_weight_A = np.inf\n",
    "                break\n",
    "            total_weight_A += A_euc_distance[prev, current]\n",
    "            current = prev\n",
    "        row_distances[j] = total_weight_A\n",
    "    return i, row_distances\n",
    "\n",
    "def compute_apsp_with_dual_weights_multiprocessing(G, weight_B, weight_A):\n",
    "    \"\"\"\n",
    "    Compute the all-pairs shortest path matrix where:\n",
    "    - Paths are shortest with respect to 'weight_B'.\n",
    "    - Distances are accumulated with respect to 'weight_A'.\n",
    "    \n",
    "    This version parallelizes path reconstruction and weight accumulation using multiprocessing.\n",
    "    \"\"\"\n",
    "    # Step 1: Get adjacency matrices for both weights\n",
    "    A_kernel_distance = nx.to_numpy_array(G, weight=weight_B)\n",
    "    A_euc_distance = nx.to_numpy_array(G, weight=weight_A)\n",
    "\n",
    "    # Step 2: Compute shortest paths and predecessors with respect to 'weight_B'\n",
    "    apsp_weight_B, predecessors = shortest_path(\n",
    "        A_kernel_distance, directed=False, unweighted=False, return_predecessors=True\n",
    "    )\n",
    "\n",
    "    # Step 3: Use multiprocessing to process rows in parallel\n",
    "    n = A_kernel_distance.shape[0]\n",
    "    apsp_weight_A = np.zeros((n, n))\n",
    "\n",
    "    args = [(i, predecessors, A_euc_distance, n) for i in range(n)]\n",
    "\n",
    "    with Pool() as pool:\n",
    "        results = pool.map(process_row, args)\n",
    "\n",
    "    # Step 4: Populate the APSP matrix\n",
    "    for i, row_distances in results:\n",
    "        apsp_weight_A[i] = row_distances\n",
    "\n",
    "    return apsp_weight_A, apsp_weight_B"
   ]
  },
  {
   "cell_type": "code",
   "execution_count": null,
   "metadata": {},
   "outputs": [],
   "source": [
    "apsp_weight_A, apsp_weight_B = compute_apsp_with_dual_weights_multiprocessing(G_orc, 'kernel_distance', 'weight')"
   ]
  },
  {
   "cell_type": "code",
   "execution_count": null,
   "metadata": {},
   "outputs": [],
   "source": [
    "%autoreload 2\n",
    "from src.isorc import *\n",
    "\n",
    "isorc = ISORC(\n",
    "    orcmanl=orcmanl,\n",
    "    exp_params=exp_params,\n",
    "    verbose=True,\n",
    ")\n",
    "emb = isorc.fit_kPCA()\n",
    "plot_data_2D(emb, color=color[isorc.G.nodes()], title=None)"
   ]
  },
  {
   "cell_type": "code",
   "execution_count": null,
   "metadata": {},
   "outputs": [],
   "source": [
    "plot_graph_3D(return_dict['data'], orcmanl.G_pruned, title=None)"
   ]
  },
  {
   "cell_type": "code",
   "execution_count": null,
   "metadata": {},
   "outputs": [],
   "source": [
    "from sklearn.manifold import Isomap\n",
    "\n",
    "isomap = Isomap(n_components=2, metric='precomputed')\n",
    "emb = isomap.fit_transform(apsp_weight_A)\n",
    "\n",
    "plot_data_2D(emb, color=color[G_orc.nodes()], title=None)"
   ]
  },
  {
   "cell_type": "code",
   "execution_count": null,
   "metadata": {},
   "outputs": [],
   "source": [
    "umap_emb = umap.UMAP(n_components=2, n_neighbors=15, min_dist=0.1).fit_transform(return_dict['data'])\n",
    "plot_data_2D(umap_emb, color=color, title=None)\n"
   ]
  },
  {
   "cell_type": "code",
   "execution_count": null,
   "metadata": {},
   "outputs": [],
   "source": [
    "%autoreload 2\n",
    "# quadratics\n",
    "n_points = 1200\n",
    "noise = 0.15\n",
    "noise_thresh = 0.4\n",
    "\n",
    "return_dict = quadratics(n_points=n_points, noise=noise, noise_thresh=noise_thresh, supersample=True)"
   ]
  },
  {
   "cell_type": "code",
   "execution_count": null,
   "metadata": {},
   "outputs": [],
   "source": [
    "orcmanl = ORCManL(\n",
    "    exp_params=exp_params,\n",
    "    verbose=True,\n",
    "    reattach=True\n",
    ")\n",
    "orcmanl.fit(return_dict['data'])"
   ]
  },
  {
   "cell_type": "code",
   "execution_count": null,
   "metadata": {},
   "outputs": [],
   "source": [
    "G_orc = orcmanl.G_ann.copy()\n",
    "G_orc, kdists, orcs = compute_kernel_distances(G_orc, 1e-2, rep_factor=10)"
   ]
  },
  {
   "cell_type": "code",
   "execution_count": null,
   "metadata": {},
   "outputs": [],
   "source": [
    "apsp_weight_A, apsp_weight_B = compute_apsp_with_dual_weights_multiprocessing(G_orc, 'kernel_distance', 'weight')"
   ]
  },
  {
   "cell_type": "code",
   "execution_count": null,
   "metadata": {},
   "outputs": [],
   "source": [
    "isomap = Isomap(n_components=2, metric='precomputed')\n",
    "emb_A = isomap.fit_transform(apsp_weight_A)\n",
    "emb_B = isomap.fit_transform(apsp_weight_B)\n",
    "\n",
    "plot_data_2D(emb_A, color=return_dict['cluster'][G_orc.nodes()], title=None)\n",
    "plot_data_2D(emb_B, color=return_dict['cluster'][G_orc.nodes()], title=None)"
   ]
  },
  {
   "cell_type": "code",
   "execution_count": null,
   "metadata": {},
   "outputs": [],
   "source": [
    "umap_emb = umap.UMAP(n_components=2, n_neighbors=15, min_dist=0.1).fit_transform(return_dict['data'])\n",
    "plot_data_2D(umap_emb, color=return_dict['cluster'], title=None)"
   ]
  },
  {
   "cell_type": "code",
   "execution_count": null,
   "metadata": {},
   "outputs": [],
   "source": [
    "# quadratics # more noise\n",
    "n_points = 1200\n",
    "noise = 0.20\n",
    "noise_thresh = 0.4\n",
    "\n",
    "return_dict = quadratics(n_points=n_points, noise=noise, noise_thresh=noise_thresh, supersample=True)"
   ]
  },
  {
   "cell_type": "code",
   "execution_count": null,
   "metadata": {},
   "outputs": [],
   "source": [
    "orcmanl = ORCManL(\n",
    "    exp_params=exp_params,\n",
    "    verbose=True,\n",
    "    reattach=True\n",
    ")\n",
    "orcmanl.fit(return_dict['data'])"
   ]
  },
  {
   "cell_type": "code",
   "execution_count": null,
   "metadata": {},
   "outputs": [],
   "source": [
    "G_orc = orcmanl.G_ann.copy()\n",
    "G_orc, kdists, orcs = compute_kernel_distances(G_orc, 1e-10)"
   ]
  },
  {
   "cell_type": "code",
   "execution_count": null,
   "metadata": {},
   "outputs": [],
   "source": [
    "apsp_weight_A, apsp_weight_B = compute_apsp_with_dual_weights_multiprocessing(G_orc, 'kernel_distance', 'weight')"
   ]
  },
  {
   "cell_type": "code",
   "execution_count": null,
   "metadata": {},
   "outputs": [],
   "source": [
    "%autoreload 2\n",
    "plot_graph_2D(return_dict['data'], G_orc, node_color=return_dict['cluster'][G_orc.nodes()], edge_color=kdists, title=None)"
   ]
  },
  {
   "cell_type": "code",
   "execution_count": null,
   "metadata": {},
   "outputs": [],
   "source": [
    "\n",
    "isomap = Isomap(n_components=2, metric='precomputed')\n",
    "emb_A = isomap.fit_transform(apsp_weight_A)\n",
    "emb_B = isomap.fit_transform(apsp_weight_B)\n",
    "\n",
    "plot_data_2D(emb_A, color=return_dict['cluster'][G_orc.nodes()], title=None)\n",
    "plot_data_2D(emb_B, color=return_dict['cluster'][G_orc.nodes()], title=None)"
   ]
  },
  {
   "cell_type": "code",
   "execution_count": null,
   "metadata": {},
   "outputs": [],
   "source": [
    "umap_emb = umap.UMAP(n_components=2, n_neighbors=15, min_dist=0.1).fit_transform(return_dict['data'])\n",
    "plot_data_2D(umap_emb, color=return_dict['cluster'], title=None)"
   ]
  },
  {
   "cell_type": "code",
   "execution_count": null,
   "metadata": {},
   "outputs": [],
   "source": [
    "import numpy as np\n",
    "import torchvision\n",
    "\n",
    "def get_mnist_data(n_samples, label=None):\n",
    "    \"\"\"\n",
    "    Get n_samples MNIST data points with the specified label. If label is None, get n_samples random data points.\n",
    "    Parameters:\n",
    "\n",
    "    n_samples: int\n",
    "        Number of data points to get\n",
    "    label: int or None\n",
    "        Label of the data points to get. If None, get random data points.\n",
    "    Returns:\n",
    "    ----------\n",
    "    mnist_data: np.ndarray\n",
    "        n_samples x 784 array of MNIST data points\n",
    "    mnist_labels: np.ndarray\n",
    "        n_samples array of MNIST labels\n",
    "    \"\"\"\n",
    "    transform = torchvision.transforms.Compose([\n",
    "        torchvision.transforms.ToTensor(),\n",
    "        torchvision.transforms.Lambda(lambda x: x.view(-1))\n",
    "    ])\n",
    "    mnist = torchvision.datasets.MNIST('../data', train=True, download=True, transform=transform)\n",
    "    mnist_data = torch.stack([x for x, _ in mnist]).numpy().astype(np.float64)\n",
    "    mnist_labels = torch.tensor([y for _, y in mnist]).numpy().astype(np.float64)\n",
    "    if label is not None:\n",
    "        label_indices = np.where(mnist_labels == label)[0]\n",
    "        np.random.seed(0)\n",
    "        np.random.shuffle(label_indices)\n",
    "        label_indices = label_indices[:n_samples]\n",
    "        mnist_data = mnist_data[label_indices]\n",
    "        mnist_labels = mnist_labels[label_indices]\n",
    "    else:\n",
    "        np.random.seed(0)\n",
    "        indices = np.random.choice(mnist_data.shape[0], n_samples, replace=False)\n",
    "        mnist_data = mnist_data[indices]\n",
    "        mnist_labels = mnist_labels[indices]\n",
    "    return mnist_data, mnist_labels\n",
    "\n",
    "# kmnist: path data/KMNIST/t10k-images-idx3-ubyte.gz\n",
    "\n",
    "def get_kmnist_data(n_samples, label=None):\n",
    "    \"\"\"\n",
    "    Get n_samples KMNIST data points with the specified label. If label is None, get n_samples random data points.\n",
    "    Parameters:\n",
    "\n",
    "    n_samples: int\n",
    "        Number of data points to get\n",
    "    label: int or None\n",
    "        Label of the data points to get. If None, get random data points.\n",
    "    Returns:\n",
    "    ----------\n",
    "    kmnist_data: np.ndarray\n",
    "        n_samples x 784 array of KMNIST data points\n",
    "    kmnist_labels: np.ndarray\n",
    "        n_samples array of KMNIST labels\n",
    "    \"\"\"\n",
    "    transform = torchvision.transforms.Compose([\n",
    "        torchvision.transforms.ToTensor(),\n",
    "        torchvision.transforms.Lambda(lambda x: x.view(-1))\n",
    "    ])\n",
    "    kmnist = torchvision.datasets.KMNIST('data', train=True, download=True, transform=transform)\n",
    "    kmnist_data = torch.stack([x for x, _ in kmnist]).numpy().astype(np.float64)\n",
    "    # scale so distances are in a reasonable range\n",
    "    kmnist_labels = torch.tensor([y for _, y in kmnist]).numpy().astype(np.float64)\n",
    "    if label is not None:\n",
    "        label_indices = np.where(kmnist_labels == label)[0]\n",
    "        np.random.seed(0)\n",
    "        np.random.shuffle(label_indices)\n",
    "        label_indices = label_indices[:n_samples]\n",
    "        kmnist_data = kmnist_data[label_indices]\n",
    "        kmnist_labels = kmnist_labels[label_indices]\n",
    "    else:\n",
    "        np.random.seed(0)\n",
    "        indices = np.random.choice(kmnist_data.shape[0], n_samples, replace=False)\n",
    "        kmnist_data = kmnist_data[indices]\n",
    "        kmnist_labels = kmnist_labels[indices]\n",
    "    return kmnist_data, kmnist_labels"
   ]
  },
  {
   "cell_type": "code",
   "execution_count": null,
   "metadata": {},
   "outputs": [],
   "source": [
    "n_samples = 1500\n",
    "mnist_data, mnist_labels = get_mnist_data(n_samples, label=None)"
   ]
  },
  {
   "cell_type": "code",
   "execution_count": null,
   "metadata": {},
   "outputs": [],
   "source": [
    "orcmanl = ORCManL(\n",
    "    exp_params=exp_params,\n",
    "    verbose=True,\n",
    "    reattach=False\n",
    ")\n",
    "orcmanl.fit(mnist_data)"
   ]
  },
  {
   "cell_type": "code",
   "execution_count": null,
   "metadata": {},
   "outputs": [],
   "source": [
    "G_orc = orcmanl.G_ann.copy()\n",
    "G_orc, kdists, orcs = compute_kernel_distances(G_orc, 1e-3)"
   ]
  },
  {
   "cell_type": "code",
   "execution_count": null,
   "metadata": {},
   "outputs": [],
   "source": [
    "\n",
    "apsp_weight_A, apsp_weight_B = compute_apsp_with_dual_weights_multiprocessing(G_orc, 'kernel_distance', 'weight')\n"
   ]
  },
  {
   "cell_type": "code",
   "execution_count": null,
   "metadata": {},
   "outputs": [],
   "source": [
    "isomap = Isomap(n_components=2, metric='precomputed')\n",
    "emb_A = isomap.fit_transform(apsp_weight_A)\n",
    "emb_B = isomap.fit_transform(apsp_weight_B)\n",
    "\n",
    "plot_data_2D(emb_A, color=mnist_labels[G_orc.nodes()], title=None)\n",
    "plot_data_2D(emb_B, color=mnist_labels[G_orc.nodes()], title=None)"
   ]
  },
  {
   "cell_type": "code",
   "execution_count": null,
   "metadata": {},
   "outputs": [],
   "source": [
    "umap_emb = umap.UMAP(n_components=2, n_neighbors=15, min_dist=0.1).fit_transform(mnist_data)\n",
    "plot_data_2D(umap_emb, color=mnist_labels, title=None)"
   ]
  },
  {
   "cell_type": "code",
   "execution_count": null,
   "metadata": {},
   "outputs": [],
   "source": []
  }
 ],
 "metadata": {
  "kernelspec": {
   "display_name": "isorc",
   "language": "python",
   "name": "python3"
  },
  "language_info": {
   "codemirror_mode": {
    "name": "ipython",
    "version": 3
   },
   "file_extension": ".py",
   "mimetype": "text/x-python",
   "name": "python",
   "nbconvert_exporter": "python",
   "pygments_lexer": "ipython3",
   "version": "3.10.12"
  }
 },
 "nbformat": 4,
 "nbformat_minor": 2
}

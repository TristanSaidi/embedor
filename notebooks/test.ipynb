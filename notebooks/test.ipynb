{
 "cells": [
  {
   "cell_type": "code",
   "execution_count": null,
   "metadata": {},
   "outputs": [],
   "source": [
    "from src.data.data import *\n",
    "from src.orcml import *\n",
    "from src.plotting import *\n",
    "from src.utils.graph_utils import *\n",
    "from src.isorc import *\n",
    "from src.utils.embeddings import *\n",
    "from sklearn.manifold import TSNE\n",
    "import umap\n",
    "%load_ext autoreload\n",
    "\n",
    "exp_params = {\n",
    "    'mode': 'nbrs',\n",
    "    'n_neighbors': 15,\n",
    "    'epsilon': None,\n",
    "    'lda': 0.01,\n",
    "    'delta': 0.8\n",
    "}"
   ]
  },
  {
   "cell_type": "code",
   "execution_count": 292,
   "metadata": {},
   "outputs": [],
   "source": [
    "n_points = 4000\n",
    "noise = 6.2\n",
    "noise_thresh = 2.2\n",
    "\n",
    "dataset_info = {\n",
    "    'name': '3D_swiss_roll',\n",
    "    'n_points': n_points,\n",
    "    'noise': noise,\n",
    "    'noise_thresh': noise_thresh\n",
    "}\n",
    "\n",
    "return_dict = swiss_roll(n_points=n_points, noise=noise, noise_thresh=noise_thresh, supersample=True, dim=3, hole=False)\n",
    "swiss_roll_data, color, cluster, swiss_roll_supersample, subsample_indices = return_dict['data'], return_dict['color'], return_dict['cluster'], return_dict['data_supersample'], return_dict['subsample_indices']"
   ]
  },
  {
   "cell_type": "code",
   "execution_count": null,
   "metadata": {},
   "outputs": [],
   "source": [
    "%autoreload 2\n",
    "orcmanl = ORCManL(\n",
    "    exp_params=exp_params,\n",
    "    verbose=True,\n",
    "    reattach=False,\n",
    ")\n",
    "orcmanl.fit(return_dict['data'])"
   ]
  },
  {
   "cell_type": "code",
   "execution_count": null,
   "metadata": {},
   "outputs": [],
   "source": [
    "%autoreload 2\n",
    "from src.isorc import *\n",
    "\n",
    "isorc = ISORC(\n",
    "    orcmanl=orcmanl,\n",
    "    exp_params=exp_params,\n",
    "    verbose=True,\n",
    "    temperature=5\n",
    ")\n",
    "emb_mds = isorc.fit_MDS()\n",
    "emb_iso = isorc.fit_isomap(n_components=2)\n",
    "plot_data_2D(emb_mds, color=color[isorc.G.nodes()], title=None)\n",
    "plot_data_2D(emb_iso, color=color[isorc.G.nodes()], title=None)"
   ]
  },
  {
   "cell_type": "code",
   "execution_count": null,
   "metadata": {},
   "outputs": [],
   "source": [
    "# get list of shortcut edges from orcmanl\n",
    "shortcut_edges_indices = orcmanl.shortcut_edges\n",
    "# convert to binary array\n",
    "shortcut_edges = np.zeros(len(orcmanl.G.edges))\n",
    "shortcut_edges[shortcut_edges_indices] = 1\n",
    "\n",
    "plt.scatter(orcmanl.orcs, np.log(isorc.lb_dists), c=shortcut_edges)\n"
   ]
  },
  {
   "cell_type": "code",
   "execution_count": null,
   "metadata": {},
   "outputs": [],
   "source": [
    "umap_emb = umap.UMAP(n_components=2, n_neighbors=15, min_dist=0.1).fit_transform(return_dict['data'])\n",
    "plot_data_2D(umap_emb, color=color, title=None)\n"
   ]
  },
  {
   "cell_type": "code",
   "execution_count": 361,
   "metadata": {},
   "outputs": [],
   "source": [
    "%autoreload 2\n",
    "# quadratics\n",
    "n_points = 2500\n",
    "noise = 0.15\n",
    "noise_thresh = 0.4\n",
    "\n",
    "return_dict = quadratics(n_points=n_points, noise=noise, noise_thresh=noise_thresh, supersample=True)"
   ]
  },
  {
   "cell_type": "code",
   "execution_count": null,
   "metadata": {},
   "outputs": [],
   "source": [
    "orcmanl = ORCManL(\n",
    "    exp_params=exp_params,\n",
    "    verbose=True,\n",
    "    reattach=False\n",
    ")\n",
    "orcmanl.fit(return_dict['data'])"
   ]
  },
  {
   "cell_type": "code",
   "execution_count": null,
   "metadata": {},
   "outputs": [],
   "source": [
    "%autoreload 2\n",
    "from src.isorc import *\n",
    "\n",
    "isorc = ISORC(\n",
    "    orcmanl=orcmanl,\n",
    "    exp_params=exp_params,\n",
    "    verbose=True,\n",
    "    temperature=5\n",
    ")\n",
    "emb_mds = isorc.fit_MDS()\n",
    "emb_iso = isorc.fit_isomap(n_components=2)\n",
    "plot_data_2D(emb_mds, color=return_dict['cluster'][isorc.G.nodes()], title=None)\n",
    "plot_data_2D(emb_iso, color=return_dict['cluster'][isorc.G.nodes()], title=None)"
   ]
  },
  {
   "cell_type": "code",
   "execution_count": null,
   "metadata": {},
   "outputs": [],
   "source": [
    "plot_graph_2D(return_dict['data'], orcmanl.G_ann, title=None, edge_color=orcmanl.orcs)"
   ]
  },
  {
   "cell_type": "code",
   "execution_count": null,
   "metadata": {},
   "outputs": [],
   "source": [
    "umap_emb = umap.UMAP(n_components=2, n_neighbors=15).fit_transform(return_dict['data'])\n",
    "plot_data_2D(umap_emb, color=return_dict['cluster'], title=None)"
   ]
  },
  {
   "cell_type": "code",
   "execution_count": 366,
   "metadata": {},
   "outputs": [],
   "source": [
    "import numpy as np\n",
    "import torchvision\n",
    "\n",
    "def get_mnist_data(n_samples, label=None):\n",
    "    \"\"\"\n",
    "    Get n_samples MNIST data points with the specified label. If label is None, get n_samples random data points.\n",
    "    Parameters:\n",
    "\n",
    "    n_samples: int\n",
    "        Number of data points to get\n",
    "    label: int or None\n",
    "        Label of the data points to get. If None, get random data points.\n",
    "    Returns:\n",
    "    ----------\n",
    "    mnist_data: np.ndarray\n",
    "        n_samples x 784 array of MNIST data points\n",
    "    mnist_labels: np.ndarray\n",
    "        n_samples array of MNIST labels\n",
    "    \"\"\"\n",
    "    transform = torchvision.transforms.Compose([\n",
    "        torchvision.transforms.ToTensor(),\n",
    "        torchvision.transforms.Lambda(lambda x: x.view(-1))\n",
    "    ])\n",
    "    mnist = torchvision.datasets.MNIST('../data', train=True, download=True, transform=transform)\n",
    "    mnist_data = torch.stack([x for x, _ in mnist]).numpy().astype(np.float64)\n",
    "    mnist_labels = torch.tensor([y for _, y in mnist]).numpy().astype(np.float64)\n",
    "    if label is not None:\n",
    "        label_indices = np.where(mnist_labels == label)[0]\n",
    "        np.random.seed(0)\n",
    "        np.random.shuffle(label_indices)\n",
    "        label_indices = label_indices[:n_samples]\n",
    "        mnist_data = mnist_data[label_indices]\n",
    "        mnist_labels = mnist_labels[label_indices]\n",
    "    else:\n",
    "        np.random.seed(0)\n",
    "        indices = np.random.choice(mnist_data.shape[0], n_samples, replace=False)\n",
    "        mnist_data = mnist_data[indices]\n",
    "        mnist_labels = mnist_labels[indices]\n",
    "    return mnist_data, mnist_labels\n",
    "\n",
    "# kmnist: path data/KMNIST/t10k-images-idx3-ubyte.gz\n",
    "\n",
    "def get_kmnist_data(n_samples, label=None):\n",
    "    \"\"\"\n",
    "    Get n_samples KMNIST data points with the specified label. If label is None, get n_samples random data points.\n",
    "    Parameters:\n",
    "\n",
    "    n_samples: int\n",
    "        Number of data points to get\n",
    "    label: int or None\n",
    "        Label of the data points to get. If None, get random data points.\n",
    "    Returns:\n",
    "    ----------\n",
    "    kmnist_data: np.ndarray\n",
    "        n_samples x 784 array of KMNIST data points\n",
    "    kmnist_labels: np.ndarray\n",
    "        n_samples array of KMNIST labels\n",
    "    \"\"\"\n",
    "    transform = torchvision.transforms.Compose([\n",
    "        torchvision.transforms.ToTensor(),\n",
    "        torchvision.transforms.Lambda(lambda x: x.view(-1))\n",
    "    ])\n",
    "    kmnist = torchvision.datasets.KMNIST('data', train=True, download=True, transform=transform)\n",
    "    kmnist_data = torch.stack([x for x, _ in kmnist]).numpy().astype(np.float64)\n",
    "    # scale so distances are in a reasonable range\n",
    "    kmnist_labels = torch.tensor([y for _, y in kmnist]).numpy().astype(np.float64)\n",
    "    if label is not None:\n",
    "        label_indices = np.where(kmnist_labels == label)[0]\n",
    "        np.random.seed(0)\n",
    "        np.random.shuffle(label_indices)\n",
    "        label_indices = label_indices[:n_samples]\n",
    "        kmnist_data = kmnist_data[label_indices]\n",
    "        kmnist_labels = kmnist_labels[label_indices]\n",
    "    else:\n",
    "        np.random.seed(0)\n",
    "        indices = np.random.choice(kmnist_data.shape[0], n_samples, replace=False)\n",
    "        kmnist_data = kmnist_data[indices]\n",
    "        kmnist_labels = kmnist_labels[indices]\n",
    "    return kmnist_data, kmnist_labels"
   ]
  },
  {
   "cell_type": "code",
   "execution_count": 375,
   "metadata": {},
   "outputs": [],
   "source": [
    "n_samples = 10000\n",
    "mnist_data, mnist_labels = get_mnist_data(n_samples, label=None)"
   ]
  },
  {
   "cell_type": "code",
   "execution_count": null,
   "metadata": {},
   "outputs": [],
   "source": [
    "orcmanl = ORCManL(\n",
    "    exp_params=exp_params,\n",
    "    verbose=True,\n",
    "    reattach=False\n",
    ")\n",
    "orcmanl.fit(mnist_data)"
   ]
  },
  {
   "cell_type": "code",
   "execution_count": null,
   "metadata": {},
   "outputs": [],
   "source": [
    "isorc = ISORC(\n",
    "    orcmanl=orcmanl,\n",
    "    exp_params=exp_params,\n",
    "    verbose=True,\n",
    "    temperature=5\n",
    ")\n",
    "emb_mds = isorc.fit_MDS()\n",
    "emb_iso = isorc.fit_isomap()\n",
    "plot_data_2D(emb_mds, color=mnist_labels[isorc.G.nodes()], title=None)\n",
    "plot_data_2D(emb_iso, color=mnist_labels[isorc.G.nodes()], title=None)"
   ]
  },
  {
   "cell_type": "code",
   "execution_count": null,
   "metadata": {},
   "outputs": [],
   "source": []
  }
 ],
 "metadata": {
  "kernelspec": {
   "display_name": "isorc",
   "language": "python",
   "name": "python3"
  },
  "language_info": {
   "codemirror_mode": {
    "name": "ipython",
    "version": 3
   },
   "file_extension": ".py",
   "mimetype": "text/x-python",
   "name": "python",
   "nbconvert_exporter": "python",
   "pygments_lexer": "ipython3",
   "version": "3.10.12"
  }
 },
 "nbformat": 4,
 "nbformat_minor": 2
}

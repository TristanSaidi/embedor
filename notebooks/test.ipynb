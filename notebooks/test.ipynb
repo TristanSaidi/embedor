{
 "cells": [
  {
   "cell_type": "code",
   "execution_count": null,
   "metadata": {},
   "outputs": [],
   "source": [
    "from src.data.data import *\n",
    "from src.orcml import *\n",
    "from src.plotting import *\n",
    "from src.utils.graph_utils import *\n",
    "from src.isorc import *\n",
    "from src.utils.embeddings import *\n",
    "from sklearn.manifold import TSNE\n",
    "import umap\n",
    "%load_ext autoreload\n",
    "\n",
    "exp_params = {\n",
    "    'mode': 'nbrs',\n",
    "    'n_neighbors': 15,\n",
    "    'epsilon': None,\n",
    "    'lda': 0.01,\n",
    "    'delta': 0.8\n",
    "}"
   ]
  },
  {
   "cell_type": "code",
   "execution_count": null,
   "metadata": {},
   "outputs": [],
   "source": [
    "n_points = 2500\n",
    "noise = 6.2\n",
    "noise_thresh = 2.2\n",
    "\n",
    "dataset_info = {\n",
    "    'name': '3D_swiss_roll',\n",
    "    'n_points': n_points,\n",
    "    'noise': noise,\n",
    "    'noise_thresh': noise_thresh\n",
    "}\n",
    "\n",
    "return_dict = swiss_roll(n_points=n_points, noise=noise, noise_thresh=noise_thresh, supersample=True, dim=3, hole=False)\n",
    "swiss_roll_data, color, cluster, swiss_roll_supersample, subsample_indices = return_dict['data'], return_dict['color'], return_dict['cluster'], return_dict['data_supersample'], return_dict['subsample_indices']"
   ]
  },
  {
   "cell_type": "code",
   "execution_count": null,
   "metadata": {},
   "outputs": [],
   "source": [
    "%autoreload 2\n",
    "orcmanl = ORCManL(\n",
    "    exp_params=exp_params,\n",
    "    verbose=True,\n",
    "    reattach=True,\n",
    "    nbrhood_size=1\n",
    ")\n",
    "orcmanl.fit(return_dict['data'])"
   ]
  },
  {
   "cell_type": "code",
   "execution_count": null,
   "metadata": {},
   "outputs": [],
   "source": [
    "G_orc = orcmanl.G.copy()\n",
    "\n",
    "def kernel_distances(k_ij, d_ij, tau):\n",
    "    \"\"\"\n",
    "    Computes the distance of an edge under the logarithmic barrier kernel \n",
    "    \"\"\"\n",
    "    return -1/tau * np.log(k_ij + 2) + (d_ij * tau + np.log(3))/tau\n",
    "\n",
    "def compute_kernel_distances(G, tau):\n",
    "    \"\"\"\n",
    "    Computes the distances of all edges in a graph under the logarithmic barrier kernel\n",
    "    \"\"\"\n",
    "    orcs = []\n",
    "    kdists = []\n",
    "    for u, v in G.edges():\n",
    "        d_ij = G[u][v]['weight']\n",
    "        k_ij = G[u][v]['ricciCurvature']\n",
    "        G[u][v]['kernel_distance'] = kernel_distances(k_ij, d_ij, tau)\n",
    "        kdists.append(G[u][v]['kernel_distance'])\n",
    "        orcs.append(k_ij)\n",
    "    return G, kdists, orcs"
   ]
  },
  {
   "cell_type": "code",
   "execution_count": null,
   "metadata": {},
   "outputs": [],
   "source": [
    "G_orc, kdists, orcs = compute_kernel_distances(G_orc, 0.1)"
   ]
  },
  {
   "cell_type": "code",
   "execution_count": null,
   "metadata": {},
   "outputs": [],
   "source": [
    "# get shortest paths\n",
    "paths = nx.all_pairs_all_shortest_paths(G_orc, weight='kernel_distance')\n",
    "# create sp distance matrix using paths but distances determined by A\n",
    "sp_dist_matrix = np.zeros((len(G_orc.nodes), len(G_orc.nodes)))\n",
    "for u, u_paths in tqdm(paths, total=len(G_orc.nodes)):\n",
    "    for v, uv_path in u_paths.items():\n",
    "        if u == v:\n",
    "            continue\n",
    "        uv_path = uv_path[0]\n",
    "        pathlen = 0\n",
    "        for i in range(len(uv_path) - 1):\n",
    "            dist = G_orc[uv_path[i]][uv_path[i+1]]['weight']\n",
    "            assert dist > 0, \"Distances should be positive\"\n",
    "            pathlen += dist\n",
    "        sp_dist_matrix[u][v] = pathlen\n",
    "        sp_dist_matrix[v][u] = pathlen"
   ]
  },
  {
   "cell_type": "code",
   "execution_count": null,
   "metadata": {},
   "outputs": [],
   "source": [
    "print(sp_dist_matrix[sp_dist_matrix != 0])"
   ]
  },
  {
   "cell_type": "code",
   "execution_count": null,
   "metadata": {},
   "outputs": [],
   "source": [
    "from sklearn.manifold import Isomap\n",
    "\n",
    "isomap = Isomap(n_components=2, metric='precomputed')\n",
    "emb = isomap.fit_transform(sp_dist_matrix)\n",
    "\n",
    "plot_data_2D(emb, color=color, title=None)"
   ]
  },
  {
   "cell_type": "code",
   "execution_count": null,
   "metadata": {},
   "outputs": [],
   "source": [
    "%autoreload 2\n",
    "import gc\n",
    "torch.cuda.empty_cache()\n",
    "gc.collect()\n",
    "\n",
    "isorc = ISORC(orcmanl, dim=2, init='spectral')\n",
    "X_opt, losses = isorc.fit_graph(lr=0.5, n_iter=500)\n",
    "\n",
    "plt.plot(losses)\n",
    "plt.xlabel('Iteration')\n",
    "plt.ylabel('Loss')\n",
    "plt.show()"
   ]
  },
  {
   "cell_type": "code",
   "execution_count": null,
   "metadata": {},
   "outputs": [],
   "source": [
    "# get list of shortcut edges from orcmanl\n",
    "shortcut_edges_indices = orcmanl.shortcut_edges\n",
    "# convert to binary array\n",
    "shortcut_edges = np.zeros(len(orcmanl.G.edges))\n",
    "shortcut_edges[shortcut_edges_indices] = 1"
   ]
  },
  {
   "cell_type": "code",
   "execution_count": null,
   "metadata": {},
   "outputs": [],
   "source": [
    "plot_graph_2D(X_opt, orcmanl.G, title=None, node_color=return_dict['color'][orcmanl.G.nodes()], edge_width=0.25, edge_color=shortcut_edges)"
   ]
  },
  {
   "cell_type": "code",
   "execution_count": null,
   "metadata": {},
   "outputs": [],
   "source": [
    "# quadratics\n",
    "n_points = 2000\n",
    "noise = 0.20\n",
    "noise_thresh = 0.45\n",
    "\n",
    "return_dict = quadratics(n_points=n_points, noise=noise, noise_thresh=noise_thresh, supersample=True)"
   ]
  },
  {
   "cell_type": "code",
   "execution_count": null,
   "metadata": {},
   "outputs": [],
   "source": [
    "orcmanl = ORCManL(\n",
    "    exp_params=exp_params,\n",
    "    verbose=True,\n",
    "    reattach=True\n",
    ")\n",
    "orcmanl.fit(return_dict['data'])"
   ]
  },
  {
   "cell_type": "code",
   "execution_count": null,
   "metadata": {},
   "outputs": [],
   "source": [
    "plot_graph_2D(return_dict['data'], orcmanl.G_pruned, title=None)"
   ]
  },
  {
   "cell_type": "code",
   "execution_count": null,
   "metadata": {},
   "outputs": [],
   "source": [
    "%autoreload 2\n",
    "import gc\n",
    "torch.cuda.empty_cache()\n",
    "gc.collect()\n",
    "\n",
    "isorc = ISORC(orcmanl, dim=2, init='spectral')\n",
    "X_opt, losses = isorc.fit_graph(lr=0.2, n_iter=500)\n",
    "\n",
    "plt.plot(losses)\n",
    "plt.xlabel('Iteration')\n",
    "plt.ylabel('Loss')\n",
    "plt.show()"
   ]
  },
  {
   "cell_type": "code",
   "execution_count": null,
   "metadata": {},
   "outputs": [],
   "source": [
    "%autoreload 2\n",
    "plot_graph_2D(X_opt, orcmanl.G, title=None, node_color=return_dict['cluster'][orcmanl.G.nodes()])"
   ]
  },
  {
   "cell_type": "code",
   "execution_count": null,
   "metadata": {},
   "outputs": [],
   "source": [
    "# quadratics # more noise\n",
    "n_points = 2000\n",
    "noise = 0.20\n",
    "noise_thresh = 0.5\n",
    "\n",
    "return_dict = quadratics(n_points=n_points, noise=noise, noise_thresh=noise_thresh, supersample=True)"
   ]
  },
  {
   "cell_type": "code",
   "execution_count": null,
   "metadata": {},
   "outputs": [],
   "source": [
    "orcmanl = ORCManL(\n",
    "    exp_params=exp_params,\n",
    "    verbose=True,\n",
    "    reattach=True\n",
    ")\n",
    "orcmanl.fit(return_dict['data'])"
   ]
  },
  {
   "cell_type": "code",
   "execution_count": null,
   "metadata": {},
   "outputs": [],
   "source": [
    "plot_graph_2D(return_dict['data'], orcmanl.G_pruned, title=None)"
   ]
  },
  {
   "cell_type": "code",
   "execution_count": null,
   "metadata": {},
   "outputs": [],
   "source": [
    "%autoreload 2\n",
    "import gc\n",
    "torch.cuda.empty_cache()\n",
    "gc.collect()\n",
    "\n",
    "isorc = ISORC(orcmanl, dim=2, init='spectral')\n",
    "X_opt, losses = isorc.fit_graph(lr=0.2, n_iter=500, weight_orc=True, p=10)\n",
    "\n",
    "plt.plot(losses)\n",
    "plt.xlabel('Iteration')\n",
    "plt.ylabel('Loss')\n",
    "plt.show()"
   ]
  },
  {
   "cell_type": "code",
   "execution_count": null,
   "metadata": {},
   "outputs": [],
   "source": [
    "%autoreload 2\n",
    "plot_graph_2D(X_opt, orcmanl.G, title=None, node_color=return_dict['cluster'][orcmanl.G.nodes()], edge_color=orcmanl.orcs)"
   ]
  },
  {
   "cell_type": "code",
   "execution_count": null,
   "metadata": {},
   "outputs": [],
   "source": [
    "print(isorc.W[isorc.W != 0])"
   ]
  },
  {
   "cell_type": "code",
   "execution_count": null,
   "metadata": {},
   "outputs": [],
   "source": []
  }
 ],
 "metadata": {
  "kernelspec": {
   "display_name": "isorc",
   "language": "python",
   "name": "python3"
  },
  "language_info": {
   "codemirror_mode": {
    "name": "ipython",
    "version": 3
   },
   "file_extension": ".py",
   "mimetype": "text/x-python",
   "name": "python",
   "nbconvert_exporter": "python",
   "pygments_lexer": "ipython3",
   "version": "3.10.12"
  }
 },
 "nbformat": 4,
 "nbformat_minor": 2
}

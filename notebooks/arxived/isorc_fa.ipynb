{
 "cells": [
  {
   "cell_type": "code",
   "execution_count": 8,
   "metadata": {},
   "outputs": [
    {
     "name": "stdout",
     "output_type": "stream",
     "text": [
      "The autoreload extension is already loaded. To reload it, use:\n",
      "  %reload_ext autoreload\n"
     ]
    }
   ],
   "source": [
    "from data.data import *\n",
    "from src.orcml import *\n",
    "from src.plotting import *\n",
    "from src.utils.graph_utils import *\n",
    "from src.metric_fa.metric_fa import MetricFA\n",
    "%load_ext autoreload"
   ]
  },
  {
   "cell_type": "code",
   "execution_count": 9,
   "metadata": {},
   "outputs": [],
   "source": [
    "n_points = 2500\n",
    "noise = 6.2\n",
    "noise_thresh = 2.2\n",
    "\n",
    "exp_params = {\n",
    "    'dataset': '3D_swiss_roll',\n",
    "    'mode': 'nbrs',\n",
    "    'n_neighbors': 15,\n",
    "    'epsilon': None,\n",
    "    'lda': 0.01,\n",
    "    'delta': 0.8\n",
    "}\n",
    "\n",
    "dataset_info = {\n",
    "    'name': '3D_swiss_roll',\n",
    "    'n_points': n_points,\n",
    "    'noise': noise,\n",
    "    'noise_thresh': noise_thresh\n",
    "}\n",
    "\n",
    "return_dict = swiss_roll(n_points=n_points, noise=noise, noise_thresh=noise_thresh, supersample=True, dim=3, hole=False)\n",
    "swiss_roll_data, color, cluster, swiss_roll_supersample, subsample_indices = return_dict['data'], return_dict['color'], return_dict['cluster'], return_dict['data_supersample'], return_dict['subsample_indices']"
   ]
  },
  {
   "cell_type": "code",
   "execution_count": 10,
   "metadata": {},
   "outputs": [
    {
     "name": "stdout",
     "output_type": "stream",
     "text": [
      "Number of candidate edges: 4102, Number of edges in G': 22053\n",
      "Shortcut Edge Detected: edge 171\n",
      " d_G'(x,y)/effective_eps: 17.576821894148992\n",
      " Threshold/effective_eps: 9.97239158264089\n",
      "\n",
      "\n",
      "Shortcut Edge Detected: edge 172\n",
      " d_G'(x,y)/effective_eps: 17.135053769420615\n",
      " Threshold/effective_eps: 9.97239158264089\n",
      "\n",
      "\n",
      "Shortcut Edge Detected: edge 193\n",
      " d_G'(x,y)/effective_eps: 23.135154837276744\n",
      " Threshold/effective_eps: 9.97239158264089\n",
      "\n",
      "\n",
      "Shortcut Edge Detected: edge 196\n",
      " d_G'(x,y)/effective_eps: 22.84711270490404\n",
      " Threshold/effective_eps: 9.97239158264089\n",
      "\n",
      "\n",
      "Shortcut Edge Detected: edge 197\n",
      " d_G'(x,y)/effective_eps: 23.008342658838604\n",
      " Threshold/effective_eps: 9.97239158264089\n",
      "\n",
      "\n",
      "Shortcut Edge Detected: edge 237\n",
      " d_G'(x,y)/effective_eps: 23.320973636209917\n",
      " Threshold/effective_eps: 9.97239158264089\n",
      "\n",
      "\n",
      "Shortcut Edge Detected: edge 252\n",
      " d_G'(x,y)/effective_eps: 26.77829935950086\n",
      " Threshold/effective_eps: 9.97239158264089\n",
      "\n",
      "\n",
      "Shortcut Edge Detected: edge 257\n",
      " d_G'(x,y)/effective_eps: 23.182580890275688\n",
      " Threshold/effective_eps: 9.97239158264089\n",
      "\n",
      "\n",
      "Shortcut Edge Detected: edge 261\n",
      " d_G'(x,y)/effective_eps: 19.382476820407412\n",
      " Threshold/effective_eps: 9.97239158264089\n",
      "\n",
      "\n",
      "Shortcut Edge Detected: edge 941\n",
      " d_G'(x,y)/effective_eps: 19.73431561687824\n",
      " Threshold/effective_eps: 9.97239158264089\n",
      "\n",
      "\n",
      "Shortcut Edge Detected: edge 1006\n",
      " d_G'(x,y)/effective_eps: 20.718603839888434\n",
      " Threshold/effective_eps: 9.97239158264089\n",
      "\n",
      "\n",
      "Shortcut Edge Detected: edge 1007\n",
      " d_G'(x,y)/effective_eps: 21.57124642291628\n",
      " Threshold/effective_eps: 9.97239158264089\n",
      "\n",
      "\n",
      "Shortcut Edge Detected: edge 1008\n",
      " d_G'(x,y)/effective_eps: 20.877150600597506\n",
      " Threshold/effective_eps: 9.97239158264089\n",
      "\n",
      "\n",
      "Shortcut Edge Detected: edge 1346\n",
      " d_G'(x,y)/effective_eps: 21.41466359627795\n",
      " Threshold/effective_eps: 9.97239158264089\n",
      "\n",
      "\n",
      "Shortcut Edge Detected: edge 1349\n",
      " d_G'(x,y)/effective_eps: 21.182771292457023\n",
      " Threshold/effective_eps: 9.97239158264089\n",
      "\n",
      "\n",
      "Shortcut Edge Detected: edge 1397\n",
      " d_G'(x,y)/effective_eps: 18.88884644715374\n",
      " Threshold/effective_eps: 9.97239158264089\n",
      "\n",
      "\n",
      "Shortcut Edge Detected: edge 1401\n",
      " d_G'(x,y)/effective_eps: 20.075875833230658\n",
      " Threshold/effective_eps: 9.97239158264089\n",
      "\n",
      "\n",
      "Shortcut Edge Detected: edge 1416\n",
      " d_G'(x,y)/effective_eps: 18.213841991493258\n",
      " Threshold/effective_eps: 9.97239158264089\n",
      "\n",
      "\n",
      "Shortcut Edge Detected: edge 1429\n",
      " d_G'(x,y)/effective_eps: 17.93795906447997\n",
      " Threshold/effective_eps: 9.97239158264089\n",
      "\n",
      "\n",
      "Shortcut Edge Detected: edge 1638\n",
      " d_G'(x,y)/effective_eps: 15.288051402397599\n",
      " Threshold/effective_eps: 9.97239158264089\n",
      "\n",
      "\n",
      "Shortcut Edge Detected: edge 1862\n",
      " d_G'(x,y)/effective_eps: 18.548389370258633\n",
      " Threshold/effective_eps: 9.97239158264089\n",
      "\n",
      "\n",
      "Shortcut Edge Detected: edge 1874\n",
      " d_G'(x,y)/effective_eps: 22.81802671580102\n",
      " Threshold/effective_eps: 9.97239158264089\n",
      "\n",
      "\n",
      "Shortcut Edge Detected: edge 1876\n",
      " d_G'(x,y)/effective_eps: 23.09426688041335\n",
      " Threshold/effective_eps: 9.97239158264089\n",
      "\n",
      "\n",
      "Shortcut Edge Detected: edge 2039\n",
      " d_G'(x,y)/effective_eps: 20.44512515844886\n",
      " Threshold/effective_eps: 9.97239158264089\n",
      "\n",
      "\n",
      "Shortcut Edge Detected: edge 2071\n",
      " d_G'(x,y)/effective_eps: 22.236760937734292\n",
      " Threshold/effective_eps: 9.97239158264089\n",
      "\n",
      "\n",
      "Shortcut Edge Detected: edge 2182\n",
      " d_G'(x,y)/effective_eps: 11.825132186425925\n",
      " Threshold/effective_eps: 9.97239158264089\n",
      "\n",
      "\n",
      "Shortcut Edge Detected: edge 2185\n",
      " d_G'(x,y)/effective_eps: 13.019837243054651\n",
      " Threshold/effective_eps: 9.97239158264089\n",
      "\n",
      "\n",
      "Shortcut Edge Detected: edge 2186\n",
      " d_G'(x,y)/effective_eps: 11.880850955720762\n",
      " Threshold/effective_eps: 9.97239158264089\n",
      "\n",
      "\n",
      "Shortcut Edge Detected: edge 2188\n",
      " d_G'(x,y)/effective_eps: 12.189534680417378\n",
      " Threshold/effective_eps: 9.97239158264089\n",
      "\n",
      "\n",
      "Shortcut Edge Detected: edge 2278\n",
      " d_G'(x,y)/effective_eps: 23.008980349102405\n",
      " Threshold/effective_eps: 9.97239158264089\n",
      "\n",
      "\n",
      "Shortcut Edge Detected: edge 2279\n",
      " d_G'(x,y)/effective_eps: 23.46471544049586\n",
      " Threshold/effective_eps: 9.97239158264089\n",
      "\n",
      "\n",
      "Shortcut Edge Detected: edge 2284\n",
      " d_G'(x,y)/effective_eps: 22.869066989671566\n",
      " Threshold/effective_eps: 9.97239158264089\n",
      "\n",
      "\n",
      "Shortcut Edge Detected: edge 2285\n",
      " d_G'(x,y)/effective_eps: 23.32313891940038\n",
      " Threshold/effective_eps: 9.97239158264089\n",
      "\n",
      "\n",
      "Shortcut Edge Detected: edge 2331\n",
      " d_G'(x,y)/effective_eps: 12.752734696741761\n",
      " Threshold/effective_eps: 9.97239158264089\n",
      "\n",
      "\n",
      "Shortcut Edge Detected: edge 2527\n",
      " d_G'(x,y)/effective_eps: 23.39108774254553\n",
      " Threshold/effective_eps: 9.97239158264089\n",
      "\n",
      "\n",
      "Shortcut Edge Detected: edge 2551\n",
      " d_G'(x,y)/effective_eps: 14.448911451977711\n",
      " Threshold/effective_eps: 9.97239158264089\n",
      "\n",
      "\n",
      "Shortcut Edge Detected: edge 2552\n",
      " d_G'(x,y)/effective_eps: 13.392832672971123\n",
      " Threshold/effective_eps: 9.97239158264089\n",
      "\n",
      "\n",
      "Shortcut Edge Detected: edge 2934\n",
      " d_G'(x,y)/effective_eps: 20.90375743137615\n",
      " Threshold/effective_eps: 9.97239158264089\n",
      "\n",
      "\n"
     ]
    }
   ],
   "source": [
    "orcmanl = ORCManL(\n",
    "    exp_params=exp_params,\n",
    "    verbose=True,\n",
    "    reattach=True\n",
    ")\n",
    "orcmanl.fit(swiss_roll_data)"
   ]
  },
  {
   "cell_type": "code",
   "execution_count": 11,
   "metadata": {},
   "outputs": [],
   "source": [
    "%autoreload 2\n",
    "G_orcmanl = orcmanl.get_pruned_graph()"
   ]
  },
  {
   "cell_type": "code",
   "execution_count": 12,
   "metadata": {},
   "outputs": [
    {
     "name": "stderr",
     "output_type": "stream",
     "text": [
      "100%|██████████| 3/3 [00:03<00:00,  1.10s/it]"
     ]
    },
    {
     "name": "stdout",
     "output_type": "stream",
     "text": [
      "BarnesHut Approximation  took  0.29  seconds\n",
      "Repulsion forces  took  2.75  seconds\n",
      "Gravitational forces  took  0.03  seconds\n",
      "Attraction forces  took  0.14  seconds\n",
      "AdjustSpeedAndApplyForces step  took  0.08  seconds\n"
     ]
    },
    {
     "name": "stderr",
     "output_type": "stream",
     "text": [
      "\n"
     ]
    }
   ],
   "source": [
    "%autoreload 2\n",
    "metricfa = MetricFA(verbose=True, dim=2)\n",
    "pos = metricfa.forceatlas2_networkx_layout(G_orcmanl, pos=None, iterations=3)"
   ]
  },
  {
   "cell_type": "code",
   "execution_count": 13,
   "metadata": {},
   "outputs": [
    {
     "name": "stderr",
     "output_type": "stream",
     "text": [
      "/home/tristan/envs/isorc/lib/python3.8/site-packages/networkx/drawing/nx_pylab.py:433: UserWarning: No data for colormapping provided via 'c'. Parameters 'cmap' will be ignored\n",
      "  node_collection = ax.scatter(\n"
     ]
    },
    {
     "data": {
      "image/png": "[encoded data removed]",
      "text/plain": [
       "<Figure size 600x600 with 1 Axes>"
      ]
     },
     "metadata": {},
     "output_type": "display_data"
    }
   ],
   "source": [
    "# plot graph\n",
    "plot_graph_2D(pos, G_orcmanl, title=None)"
   ]
  },
  {
   "cell_type": "code",
   "execution_count": 14,
   "metadata": {},
   "outputs": [
    {
     "name": "stderr",
     "output_type": "stream",
     "text": [
      "100%|██████████| 3/3 [00:00<00:00, 34.12it/s]"
     ]
    },
    {
     "name": "stdout",
     "output_type": "stream",
     "text": [
      "BarnesHut Approximation  took  0.07  seconds\n",
      "Repulsion forces  took  0.02  seconds\n",
      "Gravitational forces  took  0.00  seconds\n",
      "Attraction forces  took  0.00  seconds\n",
      "AdjustSpeedAndApplyForces step  took  0.00  seconds\n"
     ]
    },
    {
     "name": "stderr",
     "output_type": "stream",
     "text": [
      "\n"
     ]
    }
   ],
   "source": [
    "import fa2\n",
    "\n",
    "forceatlas2 = fa2.ForceAtlas2()\n",
    "pos = forceatlas2.forceatlas2_networkx_layout(G_orcmanl, pos=None, iterations=3)"
   ]
  },
  {
   "cell_type": "code",
   "execution_count": null,
   "metadata": {},
   "outputs": [],
   "source": []
  }
 ],
 "metadata": {
  "kernelspec": {
   "display_name": "isorc",
   "language": "python",
   "name": "python3"
  },
  "language_info": {
   "codemirror_mode": {
    "name": "ipython",
    "version": 3
   },
   "file_extension": ".py",
   "mimetype": "text/x-python",
   "name": "python",
   "nbconvert_exporter": "python",
   "pygments_lexer": "ipython3",
   "version": "3.8.10"
  }
 },
 "nbformat": 4,
 "nbformat_minor": 2
}

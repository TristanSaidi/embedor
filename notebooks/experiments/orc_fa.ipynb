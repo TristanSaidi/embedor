{
 "cells": [
  {
   "cell_type": "code",
   "execution_count": null,
   "metadata": {},
   "outputs": [],
   "source": [
    "from src.data.data import *\n",
    "from src.orcml import *\n",
    "from src.plotting import *\n",
    "from src.utils.graph_utils import *\n",
    "# from src.isorc import *\n",
    "from src.orcfa import *\n",
    "from src.utils.embeddings import *\n",
    "from sklearn.manifold import TSNE\n",
    "import umap\n",
    "import numpy as np\n",
    "\n",
    "exp_params = {\n",
    "    'mode': 'nbrs',\n",
    "    'n_neighbors': 15,\n",
    "    'sigma': 1.5\n",
    "}\n",
    "%load_ext autoreload"
   ]
  },
  {
   "cell_type": "code",
   "execution_count": null,
   "metadata": {},
   "outputs": [],
   "source": [
    "%autoreload 2\n",
    "from src.orcfa import *\n",
    "####### circles #######\n",
    "n_points = 2000\n",
    "noise = 0.1\n",
    "noise_thresh = None\n",
    "return_dict = concentric_circles(n_points=n_points, factor=0.4, noise=noise, noise_thresh=noise_thresh, supersample=True)\n",
    "\n",
    "umap_emb = umap.UMAP(n_neighbors=25, min_dist=0.1, metric='euclidean').fit_transform(return_dict['data'])\n",
    "\n",
    "X = return_dict['data']\n",
    "orcfa = ORCFA(exp_params)\n",
    "embedding = orcfa.fit_transform(X)\n",
    "\n",
    "plot_graph_2D(umap_emb, orcfa.G, node_color=None, title=None, edge_width=0.05, node_size=0.0)\n",
    "plt.title('UMAP Embedding')\n",
    "\n",
    "plot_graph_2D(embedding, orcfa.G, node_color=None, edge_color=orcfa.affinities, title=None, edge_width=0.05, node_size=0.0)\n",
    "plt.title('ORCFA Embedding with annotated affinities')"
   ]
  },
  {
   "cell_type": "code",
   "execution_count": null,
   "metadata": {},
   "outputs": [],
   "source": [
    "orcfa.plot_spectral_init()"
   ]
  },
  {
   "cell_type": "code",
   "execution_count": null,
   "metadata": {},
   "outputs": [],
   "source": [
    "%autoreload 2\n",
    "####### swiss roll #######\n",
    "n_points = 2000\n",
    "noise = 1\n",
    "noise_thresh = None\n",
    "return_dict = swiss_roll(n_points=n_points, noise=noise, noise_thresh=noise_thresh, supersample=False)\n",
    "\n",
    "umap_emb = umap.UMAP(n_neighbors=25, min_dist=0.1, metric='euclidean').fit_transform(return_dict['data'])\n",
    "\n",
    "X = return_dict['data']\n",
    "orcfa = ORCFA(exp_params)\n",
    "embedding = orcfa.fit_transform(X)\n",
    "\n",
    "plot_graph_2D(umap_emb, orcfa.G, node_color=None, title=None, edge_width=0.05, node_size=0.0)\n",
    "plt.title('UMAP Embedding')\n",
    "\n",
    "plot_graph_2D(embedding, orcfa.G, node_color=None, edge_color=orcfa.affinities, title=None, edge_width=0.05, node_size=0.0)\n",
    "plt.title('ORCFA Embedding with annotated affinities')\n"
   ]
  },
  {
   "cell_type": "code",
   "execution_count": null,
   "metadata": {},
   "outputs": [],
   "source": [
    "orcfa.plot_spectral_init()"
   ]
  },
  {
   "cell_type": "code",
   "execution_count": null,
   "metadata": {},
   "outputs": [],
   "source": [
    "%autoreload 2\n",
    "# cassini oval\n",
    "n_points = 2000\n",
    "noise = 0.05\n",
    "noise_thresh = None\n",
    "\n",
    "return_dict = cassini(n_points=n_points, noise=noise, noise_thresh=noise_thresh, supersample=False)\n",
    "plot_data_2D(return_dict['data'], color=None, title=None, node_size=3)\n",
    "\n",
    "umap_emb = umap.UMAP(n_neighbors=25, min_dist=0.1, metric='euclidean').fit_transform(return_dict['data'])\n",
    "\n",
    "X = return_dict['data']\n",
    "orcfa = ORCFA(exp_params)\n",
    "embedding = orcfa.fit_transform(X)\n",
    "\n",
    "plot_graph_2D(umap_emb, orcfa.G, node_color=None, title=None, edge_width=0.05, node_size=0.0)\n",
    "plt.title('UMAP Embedding')\n",
    "\n",
    "plot_graph_2D(embedding, orcfa.G, node_color=None, edge_color=orcfa.affinities, title=None, edge_width=0.05, node_size=0.0)\n",
    "plt.title('ORCFA Embedding with annotated edge affinities')"
   ]
  },
  {
   "cell_type": "code",
   "execution_count": null,
   "metadata": {},
   "outputs": [],
   "source": [
    "orcfa.plot_spectral_init()"
   ]
  },
  {
   "cell_type": "code",
   "execution_count": null,
   "metadata": {},
   "outputs": [],
   "source": [
    "%autoreload 2\n",
    "# torii\n",
    "n_points = 3000\n",
    "noise = 0.5\n",
    "noise_thresh = None\n",
    "from src.orcfa import ORCFA\n",
    "\n",
    "return_dict = torus(n_points=n_points, noise=noise, noise_thresh=noise_thresh, supersample=False, double=True)\n",
    "\n",
    "umap_emb = umap.UMAP(n_neighbors=25, min_dist=0.1, metric='euclidean').fit_transform(return_dict['data'])\n",
    "\n",
    "X = return_dict['data']\n",
    "orcfa = ORCFA(exp_params)\n",
    "embedding = orcfa.fit_transform(X)\n",
    "\n",
    "plot_graph_2D(umap_emb, orcfa.G, node_color=None, title=None, edge_width=0.05, node_size=0.0);\n",
    "plt.title('UMAP Embedding')\n",
    "\n",
    "plot_graph_2D(embedding, orcfa.G, node_color=None, edge_color=orcfa.affinities, title=None, edge_width=0.05, node_size=0.0);\n",
    "plt.title('ORCFA Embedding with annotated affinities')"
   ]
  },
  {
   "cell_type": "code",
   "execution_count": null,
   "metadata": {},
   "outputs": [],
   "source": [
    "orcfa.plot_spectral_init()"
   ]
  },
  {
   "cell_type": "code",
   "execution_count": null,
   "metadata": {},
   "outputs": [],
   "source": [
    "%autoreload 2\n",
    "from src.orcfa import ORCFA\n",
    "\n",
    "mnist_data, mnist_labels = get_mnist_data(n_samples=6000, label=None)\n",
    "orcfa = ORCFA(exp_params)\n",
    "embedding = orcfa.fit_transform(mnist_data)\n",
    "plot_graph_2D(embedding, orcfa.G, node_color=mnist_labels[orcfa.G.nodes()], edge_color=orcfa.affinities, edge_width=0.05, node_size=0.2, title='ORCFA Embedding with annotated affinities')\n",
    "\n",
    "umap_emb = umap.UMAP(n_neighbors=25, min_dist=0.1, metric='euclidean').fit_transform(mnist_data)\n",
    "plot_graph_2D(umap_emb, orcfa.G, node_color=mnist_labels[orcfa.G.nodes()], edge_width=0.05, node_size=0.2, title='UMAP Embedding')\n"
   ]
  },
  {
   "cell_type": "code",
   "execution_count": null,
   "metadata": {},
   "outputs": [],
   "source": [
    "orcfa.plot_spectral_init()\n",
    "orcfa.plot_affinities()"
   ]
  },
  {
   "cell_type": "code",
   "execution_count": null,
   "metadata": {},
   "outputs": [],
   "source": []
  }
 ],
 "metadata": {
  "kernelspec": {
   "display_name": "isorc",
   "language": "python",
   "name": "python3"
  },
  "language_info": {
   "codemirror_mode": {
    "name": "ipython",
    "version": 3
   },
   "file_extension": ".py",
   "mimetype": "text/x-python",
   "name": "python",
   "nbconvert_exporter": "python",
   "pygments_lexer": "ipython3",
   "version": "3.10.12"
  }
 },
 "nbformat": 4,
 "nbformat_minor": 2
}

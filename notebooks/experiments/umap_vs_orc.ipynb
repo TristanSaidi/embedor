{
 "cells": [
  {
   "cell_type": "code",
   "execution_count": null,
   "metadata": {},
   "outputs": [],
   "source": [
    "from src.data.data import *\n",
    "from src.orcml import *\n",
    "from src.plotting import *\n",
    "from src.utils.graph_utils import *\n",
    "from src.isorc import *\n",
    "from src.utils.embeddings import *\n",
    "from sklearn.manifold import TSNE\n",
    "import umap\n",
    "import numpy as np\n",
    "import torchvision\n",
    "\n",
    "%load_ext autoreload\n",
    "\n",
    "exp_params = {\n",
    "    'mode': 'nbrs',\n",
    "    'n_neighbors': 25,\n",
    "    'epsilon': None,\n",
    "    'lda': 1e-5,\n",
    "    'delta': 0.8\n",
    "}"
   ]
  },
  {
   "cell_type": "code",
   "execution_count": 2,
   "metadata": {},
   "outputs": [],
   "source": [
    "%autoreload 2\n",
    "# quadratics\n",
    "n_points = 2000\n",
    "noise = 0.175\n",
    "noise_thresh = None\n",
    "\n",
    "return_dict = quadratics(n_points=n_points, noise=noise, noise_thresh=noise_thresh, supersample=True)"
   ]
  },
  {
   "cell_type": "code",
   "execution_count": null,
   "metadata": {},
   "outputs": [],
   "source": [
    "orcmanl = ORCManL(\n",
    "    exp_params=exp_params,\n",
    "    verbose=True,\n",
    "    reattach=True,\n",
    ")\n",
    "orcmanl.fit(return_dict['data'])\n",
    "G = orcmanl.G.copy()"
   ]
  },
  {
   "cell_type": "code",
   "execution_count": null,
   "metadata": {},
   "outputs": [],
   "source": [
    "plot_data_2D(return_dict['data'], color=None, title=None, node_size=3)\n",
    "plt.title('Original Data')"
   ]
  },
  {
   "cell_type": "code",
   "execution_count": null,
   "metadata": {},
   "outputs": [],
   "source": [
    "umap_emb = umap.UMAP(n_neighbors=25, min_dist=0.1, metric='euclidean').fit_transform(return_dict['data'])\n",
    "plot_graph_2D(umap_emb, G, node_color=return_dict['cluster'][G.nodes()], edge_color=orcmanl.orcs, title=None, edge_width=0.15, node_size=0.0)\n",
    "plt.title('UMAP Embedding with annotated edge ORC')"
   ]
  },
  {
   "cell_type": "code",
   "execution_count": 17,
   "metadata": {},
   "outputs": [],
   "source": [
    "%autoreload 2\n",
    "# quadratics\n",
    "n_points = 2000\n",
    "noise = 0.1\n",
    "noise_thresh = None\n",
    "\n",
    "return_dict = concentric_circles(n_points=n_points, factor=0.4, noise=noise, noise_thresh=noise_thresh, supersample=True)"
   ]
  },
  {
   "cell_type": "code",
   "execution_count": null,
   "metadata": {},
   "outputs": [],
   "source": [
    "plot_data_2D(return_dict['data'], color=None, title=None, node_size=3)\n",
    "plt.title('Original Data')"
   ]
  },
  {
   "cell_type": "code",
   "execution_count": null,
   "metadata": {},
   "outputs": [],
   "source": [
    "orcmanl = ORCManL(\n",
    "    exp_params=exp_params,\n",
    "    verbose=True,\n",
    "    reattach=True,\n",
    ")\n",
    "orcmanl.fit(return_dict['data'])\n",
    "G = orcmanl.G.copy()\n",
    "\n",
    "umap_emb = umap.UMAP(n_neighbors=25, min_dist=0.1, metric='euclidean').fit_transform(return_dict['data'])\n",
    "plot_graph_2D(umap_emb, G, node_color=return_dict['cluster'][G.nodes()], edge_color=orcmanl.orcs, title=None, edge_width=0.15, node_size=0.0)\n",
    "plt.title('UMAP Embedding with annotated edge ORC')"
   ]
  },
  {
   "cell_type": "code",
   "execution_count": null,
   "metadata": {},
   "outputs": [],
   "source": [
    "\n",
    "def orc_fa(G, a, b, scaling_ratio=2):\n",
    "    A_orc = nx.to_numpy_array(G, weight='ricciCurvature')\n",
    "    A_edge = nx.to_numpy_array(G, weight='weight')\n",
    "    \n",
    "    edge_mask = np.where(A_edge > 0, 1, 0)\n",
    "\n",
    "    assert b >= a, \"b must be greater than a\"\n",
    "    # map each row to [a, b]\n",
    "    max_orc_row = 1\n",
    "    min_orc_row = -2\n",
    "\n",
    "    A_orc_normalized = (b - a) / (max_orc_row - min_orc_row) * (A_orc - min_orc_row) + a\n",
    "    A_orc_normalized = (A_orc_normalized + A_orc_normalized.T) / 2\n",
    "    A_orc_normalized *= edge_mask\n",
    "\n",
    "    G_normalized = G.copy()\n",
    "    node_indices = list(G.nodes())\n",
    "    for i, (u, v) in enumerate(G_normalized.edges):\n",
    "        idx_u = node_indices.index(u)\n",
    "        idx_v = node_indices.index(v)\n",
    "        assert A_edge[idx_u, idx_v] != 0 or u == v, \"index misalignment\"\n",
    "        G_normalized[u][v]['orc_weight'] = A_orc_normalized[idx_u, idx_v]\n",
    "    \n",
    "    spectral_init = nx.spectral_layout(G_normalized, weight='weight')\n",
    "    print('Finished spectral initialization')\n",
    "    # force directed layout\n",
    "    node_mass = {node:1 for node in G_normalized.nodes()}\n",
    "    pos = nx.forceatlas2_layout(G_normalized, pos=spectral_init, seed=42, weight='orc_weight', scaling_ratio=scaling_ratio, node_mass=node_mass)\n",
    "    print('Finished spring layout')\n",
    "    return pos, G_normalized\n",
    "\n",
    "pos, G_normalized = orc_fa(G, 0, 1, scaling_ratio=2)\n",
    "plot_graph_2D(pos, G_normalized, node_color=return_dict['cluster'][G_normalized.nodes()], edge_color=orcmanl.orcs, title=None, edge_width=0.15, node_size=0.0)"
   ]
  },
  {
   "cell_type": "code",
   "execution_count": null,
   "metadata": {},
   "outputs": [],
   "source": []
  }
 ],
 "metadata": {
  "kernelspec": {
   "display_name": "isorc",
   "language": "python",
   "name": "python3"
  },
  "language_info": {
   "codemirror_mode": {
    "name": "ipython",
    "version": 3
   },
   "file_extension": ".py",
   "mimetype": "text/x-python",
   "name": "python",
   "nbconvert_exporter": "python",
   "pygments_lexer": "ipython3",
   "version": "3.10.12"
  }
 },
 "nbformat": 4,
 "nbformat_minor": 2
}

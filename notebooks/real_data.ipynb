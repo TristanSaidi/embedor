{
 "cells": [
  {
   "cell_type": "code",
   "execution_count": null,
   "metadata": {},
   "outputs": [],
   "source": [
    "from src.data.data import *\n",
    "from src.orcml import *\n",
    "from src.plotting import *\n",
    "from src.utils.graph_utils import *\n",
    "from src.isorc import *\n",
    "from src.utils.embeddings import *\n",
    "from sklearn.manifold import TSNE\n",
    "import umap\n",
    "import torch\n",
    "import torchvision\n",
    "%load_ext autoreload"
   ]
  },
  {
   "cell_type": "code",
   "execution_count": null,
   "metadata": {},
   "outputs": [],
   "source": [
    "\n",
    "def get_mnist_data(n_samples, label=None):\n",
    "    \"\"\"\n",
    "    Get n_samples MNIST data points with the specified label. If label is None, get n_samples random data points.\n",
    "    Parameters:\n",
    "\n",
    "    n_samples: int\n",
    "        Number of data points to get\n",
    "    label: int or None\n",
    "        Label of the data points to get. If None, get random data points.\n",
    "    Returns:\n",
    "    ----------\n",
    "    mnist_data: np.ndarray\n",
    "        n_samples x 784 array of MNIST data points\n",
    "    mnist_labels: np.ndarray\n",
    "        n_samples array of MNIST labels\n",
    "    \"\"\"\n",
    "    transform = torchvision.transforms.Compose([\n",
    "        torchvision.transforms.ToTensor(),\n",
    "        torchvision.transforms.Lambda(lambda x: x.view(-1))\n",
    "    ])\n",
    "    mnist = torchvision.datasets.MNIST('../data', train=True, download=True, transform=transform)\n",
    "    mnist_data = torch.stack([x for x, _ in mnist]).numpy().astype(np.float64)\n",
    "    mnist_labels = torch.tensor([y for _, y in mnist]).numpy().astype(np.float64)\n",
    "    if label is not None:\n",
    "        label_indices = np.where(mnist_labels == label)[0]\n",
    "        np.random.seed(0)\n",
    "        np.random.shuffle(label_indices)\n",
    "        label_indices = label_indices[:n_samples]\n",
    "        mnist_data = mnist_data[label_indices]\n",
    "        mnist_labels = mnist_labels[label_indices]\n",
    "    else:\n",
    "        np.random.seed(0)\n",
    "        indices = np.random.choice(mnist_data.shape[0], n_samples, replace=False)\n",
    "        mnist_data = mnist_data[indices]\n",
    "        mnist_labels = mnist_labels[indices]\n",
    "    return mnist_data, mnist_labels"
   ]
  },
  {
   "cell_type": "code",
   "execution_count": null,
   "metadata": {},
   "outputs": [],
   "source": [
    "mnist_data, mnist_labels = get_mnist_data(5000)"
   ]
  },
  {
   "cell_type": "code",
   "execution_count": null,
   "metadata": {},
   "outputs": [],
   "source": [
    "exp_params = {\n",
    "    'mode': 'nbrs',\n",
    "    'n_neighbors': 15,\n",
    "    'epsilon': None,\n",
    "    'lda': 0.01,\n",
    "    'delta': 0.8\n",
    "}\n",
    "orcmanl = ORCManL(\n",
    "    exp_params=exp_params,\n",
    "    verbose=True,\n",
    "    reattach=True\n",
    ")\n",
    "orcmanl.fit(mnist_data)"
   ]
  },
  {
   "cell_type": "code",
   "execution_count": null,
   "metadata": {},
   "outputs": [],
   "source": [
    "%autoreload 2\n",
    "import gc\n",
    "torch.cuda.empty_cache()\n",
    "gc.collect()\n",
    "isorc = ISORC(orcmanl, init='spectral', dim=2)\n",
    "X_opt, X_frames = isorc.fit_graph(lr=0.2, n_iter=2000)"
   ]
  },
  {
   "cell_type": "code",
   "execution_count": null,
   "metadata": {},
   "outputs": [],
   "source": [
    "# get list of shortcut edges from orcmanl\n",
    "shortcut_edges_indices = orcmanl.shortcut_edges\n",
    "# convert to binary array\n",
    "shortcut_edges = np.zeros(len(orcmanl.G.edges))\n",
    "shortcut_edges[shortcut_edges_indices] = 1"
   ]
  },
  {
   "cell_type": "code",
   "execution_count": null,
   "metadata": {},
   "outputs": [],
   "source": [
    "%autoreload 2\n",
    "plot_graph_2D(X_opt, orcmanl.G, title=None, node_color=mnist_labels[orcmanl.G.nodes()], edge_width=0.1, edge_color=shortcut_edges)"
   ]
  },
  {
   "cell_type": "code",
   "execution_count": null,
   "metadata": {},
   "outputs": [],
   "source": [
    "from sklearn.manifold import Isomap\n",
    "iso = Isomap(n_components=2)\n",
    "X_iso = iso.fit_transform(mnist_data)\n",
    "plot_graph_2D(X_iso, orcmanl.G, title=None, node_color=mnist_labels[orcmanl.G.nodes()], edge_width=0.1)"
   ]
  },
  {
   "cell_type": "code",
   "execution_count": null,
   "metadata": {},
   "outputs": [],
   "source": [
    "# get list of shortcut edges from orcmanl\n",
    "shortcut_edges_indices = orcmanl.shortcut_edges\n",
    "# convert to binary array\n",
    "shortcut_edges = np.zeros(len(orcmanl.G.edges))\n",
    "shortcut_edges[shortcut_edges_indices] = 1"
   ]
  },
  {
   "cell_type": "code",
   "execution_count": null,
   "metadata": {},
   "outputs": [],
   "source": [
    "X_tsne = TSNE(n_components=2).fit_transform(mnist_data)\n",
    "plot_graph_2D(X_tsne, orcmanl.G, title=None, node_color=mnist_labels[orcmanl.G.nodes()], edge_width=0.1, edge_color=shortcut_edges)"
   ]
  },
  {
   "cell_type": "code",
   "execution_count": null,
   "metadata": {},
   "outputs": [],
   "source": [
    "X_umap = umap.UMAP(n_components=2).fit_transform(mnist_data)\n",
    "plot_graph_2D(X_umap, orcmanl.G, title=None, node_color=mnist_labels[orcmanl.G.nodes()], edge_width=0.1)"
   ]
  },
  {
   "cell_type": "code",
   "execution_count": null,
   "metadata": {},
   "outputs": [],
   "source": [
    "plot_graph_2D(X_umap, orcmanl.G_pruned, title=None, node_color=mnist_labels[orcmanl.G_pruned.nodes()], edge_width=0.1)"
   ]
  },
  {
   "cell_type": "code",
   "execution_count": null,
   "metadata": {},
   "outputs": [],
   "source": []
  }
 ],
 "metadata": {
  "kernelspec": {
   "display_name": "isorc",
   "language": "python",
   "name": "python3"
  },
  "language_info": {
   "codemirror_mode": {
    "name": "ipython",
    "version": 3
   },
   "file_extension": ".py",
   "mimetype": "text/x-python",
   "name": "python",
   "nbconvert_exporter": "python",
   "pygments_lexer": "ipython3",
   "version": "3.8.10"
  }
 },
 "nbformat": 4,
 "nbformat_minor": 2
}

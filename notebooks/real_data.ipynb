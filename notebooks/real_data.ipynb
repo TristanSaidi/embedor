{
 "cells": [
  {
   "cell_type": "code",
   "execution_count": null,
   "metadata": {},
   "outputs": [],
   "source": [
    "import os\n",
    "os.chdir('/home/tristan/Research/Su24/orcml')\n",
    "import torch\n",
    "import torchvision\n",
    "from src.data import *\n",
    "from src.embeddings import *\n",
    "from src.orcml import *\n",
    "from src.plotting import *\n",
    "from src.eval_utils import *\n",
    "%load_ext autoreload"
   ]
  },
  {
   "cell_type": "code",
   "execution_count": null,
   "metadata": {},
   "outputs": [],
   "source": [
    "%autoreload 2\n",
    "def mnist_isomap(exp_name, n_neighbors=10):\n",
    "\n",
    "    exp_name_isomap = f'{exp_name}/isomap'\n",
    "    exp_name_isomap_orcml = f'{exp_name}/isomap_orcml'\n",
    "    exp_name_isomap_orcml_cc = f'{exp_name}/isomap_orcml_cc'\n",
    "\n",
    "    os.makedirs(f'figures/{exp_name}', exist_ok=True)\n",
    "    os.makedirs(f'figures/{exp_name_isomap}', exist_ok=True)\n",
    "    os.makedirs(f'figures/{exp_name_isomap_orcml}', exist_ok=True)\n",
    "    \n",
    "    for label in range(10):\n",
    "        print(f'Processing label {label}')\n",
    "        data, _ = get_mnist_data(3000, label)\n",
    "        n_neighbors = 10\n",
    "        G, A = make_prox_graph(data, mode='nbrs', n_neighbors=n_neighbors)\n",
    "        \n",
    "        # run isomap without orcml\n",
    "        Y_isomap = isomap_connected_component(A, n_components=2, X=data)\n",
    "        plot_emb(Y_isomap, None, 'Isomap', exp_name=exp_name_isomap, filename=f'isomap_{label}.png')\n",
    "        \n",
    "        return_dict = graph_orc(G, weight='unweighted_dist')\n",
    "        G_orc = return_dict['G']\n",
    "\n",
    "        pruned = prune_adaptive(G_orc, data, eps=None, lda=0.1, delta=1.5, cluster=None)\n",
    "        A_pruned = nx.adjacency_matrix(pruned['G_pruned']).toarray()\n",
    "        \n",
    "        Y_isomap_orcml_cc = isomap_connected_component(A_pruned, n_components=2, X=data)\n",
    "        plot_emb(Y_isomap_orcml_cc, None, 'Isomap', exp_name=exp_name_isomap_orcml_cc, filename=f'isomap_orcml_cc_{label}.png')\n",
    "\n",
    "        Y_isomap_orcml = isomap(A_pruned, n_components=2, X=data)\n",
    "        plot_emb(Y_isomap_orcml, None, 'Isomap', exp_name=exp_name_isomap_orcml, filename=f'isomap_orcml_{label}.png')\n",
    "\n",
    "def fmnist_isomap(exp_name, n_neighbors=10):\n",
    "\n",
    "    exp_name_isomap = f'{exp_name}/isomap'\n",
    "    exp_name_isomap_orcml = f'{exp_name}/isomap_orcml'\n",
    "    exp_name_isomap_orcml_cc = f'{exp_name}/isomap_orcml_cc'\n",
    "\n",
    "    os.makedirs(f'figures/{exp_name}', exist_ok=True)\n",
    "    os.makedirs(f'figures/{exp_name_isomap}', exist_ok=True)\n",
    "    os.makedirs(f'figures/{exp_name_isomap_orcml}', exist_ok=True)\n",
    "    \n",
    "    for label in range(10):\n",
    "        print(f'Processing label {label}')\n",
    "        data, _ = get_fmnist_data(3000, label)\n",
    "        n_neighbors = 10\n",
    "        G, A = make_prox_graph(data, mode='nbrs', n_neighbors=n_neighbors)\n",
    "        \n",
    "        # run isomap without orcml\n",
    "        Y_isomap = isomap_connected_component(A, n_components=2, X=data)\n",
    "        plot_emb(Y_isomap, None, 'Isomap', exp_name=exp_name_isomap, filename=f'isomap_{label}.png')\n",
    "        \n",
    "        return_dict = graph_orc(G, weight='unweighted_dist')\n",
    "        G_orc = return_dict['G']\n",
    "\n",
    "        pruned = prune_adaptive(G_orc, data, eps=None, lda=0.1, delta=1.5, cluster=None)\n",
    "        A_pruned = nx.adjacency_matrix(pruned['G_pruned']).toarray()\n",
    "        \n",
    "        Y_isomap_orcml_cc = isomap_connected_component(A_pruned, n_components=2, X=data)\n",
    "        plot_emb(Y_isomap_orcml_cc, None, 'Isomap', exp_name=exp_name_isomap_orcml_cc, filename=f'isomap_orcml_cc_{label}.png')\n",
    "\n",
    "        Y_isomap_orcml = isomap(A_pruned, n_components=2, X=data)\n",
    "        plot_emb(Y_isomap_orcml, None, 'Isomap', exp_name=exp_name_isomap_orcml, filename=f'isomap_orcml_{label}.png')"
   ]
  },
  {
   "cell_type": "code",
   "execution_count": null,
   "metadata": {},
   "outputs": [],
   "source": [
    "%autoreload 2\n",
    "exp_name = 'test'\n",
    "mnist_isomap(exp_name)\n",
    "\n",
    "exp_name = 'test'\n",
    "fmnist_isomap(exp_name)"
   ]
  },
  {
   "cell_type": "code",
   "execution_count": null,
   "metadata": {},
   "outputs": [],
   "source": [
    "cancer_data = np.loadtxt('data/zilionis_cancer/cancer_qc_final.txt')"
   ]
  },
  {
   "cell_type": "code",
   "execution_count": null,
   "metadata": {},
   "outputs": [],
   "source": [
    "import pandas as pd\n",
    "\n",
    "cancer_labels = pd.read_csv('data/zilionis_cancer/cancer_qc_final_metadata.txt', sep='\\t', header=None)[8]"
   ]
  },
  {
   "cell_type": "code",
   "execution_count": null,
   "metadata": {},
   "outputs": [],
   "source": [
    "# get unique labels\n",
    "categories = cancer_labels[1:].unique()\n",
    "categories = set([c[1:] for c in categories])\n",
    "print(len(categories))\n"
   ]
  },
  {
   "cell_type": "code",
   "execution_count": null,
   "metadata": {},
   "outputs": [],
   "source": [
    "labels = ['T cells', 'pDC', 'B cells', 'Platelets', 'RBC', 'Myeloid precursor-like', 'Mast cells', 'Monocytes', 'NK cells', 'Neutrophils', 'Plasma cells', 'Basophils', 'MoMacDC']\n",
    "print(len(labels))"
   ]
  },
  {
   "cell_type": "code",
   "execution_count": null,
   "metadata": {},
   "outputs": [],
   "source": [
    "# print difference between labels in metadata and labels in data\n",
    "print(labels)\n",
    "print(categories)"
   ]
  },
  {
   "cell_type": "code",
   "execution_count": null,
   "metadata": {},
   "outputs": [],
   "source": []
  }
 ],
 "metadata": {
  "kernelspec": {
   "display_name": "orcml",
   "language": "python",
   "name": "python3"
  },
  "language_info": {
   "codemirror_mode": {
    "name": "ipython",
    "version": 3
   },
   "file_extension": ".py",
   "mimetype": "text/x-python",
   "name": "python",
   "nbconvert_exporter": "python",
   "pygments_lexer": "ipython3",
   "version": "3.8.10"
  }
 },
 "nbformat": 4,
 "nbformat_minor": 2
}

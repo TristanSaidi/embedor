{
 "cells": [
  {
   "cell_type": "code",
   "execution_count": null,
   "metadata": {},
   "outputs": [],
   "source": [
    "import os\n",
    "os.chdir('/home/tristan/Research/Su24/orcml')\n",
    "from src.data import *\n",
    "from src.embeddings import *\n",
    "from src.orcml import *\n",
    "from src.plotting import *\n",
    "from src.eval_utils import *\n",
    "%load_ext autoreload"
   ]
  },
  {
   "cell_type": "code",
   "execution_count": null,
   "metadata": {},
   "outputs": [],
   "source": [
    "n_points = 4000"
   ]
  },
  {
   "cell_type": "code",
   "execution_count": null,
   "metadata": {},
   "outputs": [],
   "source": [
    "%autoreload 2\n",
    "noises = [0.08, 0.09, 0.1, 0.11, 0.12]\n",
    "mean_max_orcs, std_max_orcs, noises = noise_vs_orc_experiment(\n",
    "    n_runs=5,\n",
    "    noises=noises,\n",
    "    data_function=concentric_circles,\n",
    "    data_function_kwargs={\n",
    "        'n_points': 2000,\n",
    "        'factor': 0.35,\n",
    "    }\n",
    ")\n",
    "plot_line_graph(noises, mean_max_orcs, 'Noise vs. ORC: Concentric Circles', 'Noise', 'Max ORC of Spurious edges', std=std_max_orcs)"
   ]
  },
  {
   "cell_type": "code",
   "execution_count": null,
   "metadata": {},
   "outputs": [],
   "source": [
    "%autoreload 2\n",
    "return_dict = concentric_circles(n_points=n_points, factor=0.385, noise=0.08, supersample=True)\n",
    "circles, cluster, circles_supersample, subsample_indices = return_dict['data'], return_dict['cluster'], return_dict['data_supersample'], return_dict['subsample_indices']\n",
    "color = cluster.copy()\n",
    "plot_data_2D(circles, color, 'Concentric circles')"
   ]
  },
  {
   "cell_type": "code",
   "execution_count": null,
   "metadata": {},
   "outputs": [],
   "source": [
    "%autoreload 2\n",
    "n_neighbors = 20\n",
    "G, A = make_prox_graph(circles, mode='nbrs', n_neighbors=n_neighbors)\n",
    "plot_graph_2D(circles, G, 'Nearest neighbor graph')"
   ]
  },
  {
   "cell_type": "code",
   "execution_count": null,
   "metadata": {},
   "outputs": [],
   "source": [
    "%autoreload 2\n",
    "# run spectral embedding\n",
    "Y = spectral_embedding(A, n_components=1)\n",
    "plot_emb(Y, color, 'Spectral embedding')"
   ]
  },
  {
   "cell_type": "code",
   "execution_count": null,
   "metadata": {},
   "outputs": [],
   "source": [
    "%autoreload 2\n",
    "return_dict = graph_orc(G, weight='unweighted_dist')\n",
    "G_orc = return_dict['G']\n",
    "scaled_orcs = return_dict['scaled_orcs']\n",
    "wasserstein_distances = return_dict['wasserstein_distances']\n",
    "plot_graph_2D(circles, G_orc, 'Ollivier-Ricci curvature', edge_color=scaled_orcs, colorbar=True)\n",
    "\n",
    "# plot histogram of ORC, distances for spurious edges\n",
    "return_dict = spurious_edge_orc(G_orc, cluster)\n",
    "spurious_edge_scaled_orcs = return_dict['spurious_edge_scaled_orcs']\n",
    "spurious_edge_distances = return_dict['spurious_edge_distances']\n",
    "spurious_edge_scaled_orcs = np.clip(spurious_edge_scaled_orcs, -5, 5)\n",
    "spurious_edge_wasserstein_distances = return_dict['spurious_edge_wasserstein_distances']\n",
    "\n",
    "all_edge_scaled_orcs = np.clip(scaled_orcs, -5, 5)\n",
    "all_edge_distances = np.array([G_orc[u][v]['weight'] for u, v in G_orc.edges])\n",
    "histogram([spurious_edge_scaled_orcs, all_edge_scaled_orcs], 'Spurious edge Ollivier-Ricci curvature', 'Ollivier-Ricci curvature z-score', 'Density', legend=['Spurious edges', 'All edges'], bins=20)\n",
    "plot_scatter(\n",
    "    [all_edge_distances, spurious_edge_distances],\n",
    "    [all_edge_scaled_orcs, spurious_edge_scaled_orcs],\n",
    "    'Ollivier-Ricci curvature vs. distance',\n",
    "    'Distance',\n",
    "    'Ollivier-Ricci curvature z-score',\n",
    "    ['All edges', 'Spurious edges'],\n",
    "    color=['#ff7f0e','#1f77b4']\n",
    ")\n",
    "histogram([spurious_edge_wasserstein_distances, wasserstein_distances], 'Spurious edge Wasserstein distance', 'Wasserstein distance', 'Density', legend=['Spurious edges', 'All edges'], bins=20)\n",
    "plot_scatter(\n",
    "    [all_edge_distances, spurious_edge_distances],\n",
    "    [wasserstein_distances, spurious_edge_wasserstein_distances],\n",
    "    'Wasserstein distance vs. distance',\n",
    "    'Distance',\n",
    "    'Wasserstein distance',\n",
    "    ['All edges', 'Spurious edges'],\n",
    "    color=['#ff7f0e','#1f77b4']\n",
    ")"
   ]
  },
  {
   "cell_type": "code",
   "execution_count": null,
   "metadata": {},
   "outputs": [],
   "source": [
    "%autoreload 2\n",
    "# get edge attributes\n",
    "pruned = prune_adaptive(G_orc, circles, eps=None, lda=0.25, delta=1.5, cluster=cluster)\n",
    "plot_graph_2D(circles, pruned['G_pruned'], 'Pruned graph', edge_color=pruned['preserved_scaled_orcs'], colorbar=True)\n",
    "print()"
   ]
  },
  {
   "cell_type": "code",
   "execution_count": null,
   "metadata": {},
   "outputs": [],
   "source": [
    "%autoreload 2\n",
    "# run spectral embedding on pruned graph\n",
    "A_pruned = nx.adjacency_matrix(pruned['G_pruned']).toarray()\n",
    "Y = spectral_embedding(A_pruned, n_components=1)\n",
    "\n",
    "plot_emb(Y, color[nx.nodes(pruned['G_pruned'])], 'Spectral embedding of pruned graph', exp_name=exp_name, filename='concentric_circles_pruned_spectral_emb.png')"
   ]
  },
  {
   "cell_type": "code",
   "execution_count": null,
   "metadata": {},
   "outputs": [],
   "source": [
    "%autoreload 2\n",
    "G_supersample, A_supersample = make_prox_graph(circles_supersample, mode='nbrs', n_neighbors=n_neighbors)\n",
    "pruned_distortion = intercluster_distortion(\n",
    "    A_supersample, \n",
    "    A_pruned, \n",
    "    cluster, \n",
    "    node_indices=list(pruned['G_pruned'].nodes()),\n",
    "    supersample=True,\n",
    "    subsample_indices=subsample_indices\n",
    ")\n",
    "unpruned_distortion = intercluster_distortion(\n",
    "    A_supersample, \n",
    "    A, \n",
    "    cluster, \n",
    "    supersample=True,\n",
    "    subsample_indices=subsample_indices\n",
    ")\n",
    "print(f'Mean distortion of pruned graph: {np.mean(pruned_distortion)}')\n",
    "print(f'Mean distortion of unpruned graph: {np.mean(unpruned_distortion)}')"
   ]
  },
  {
   "cell_type": "code",
   "execution_count": null,
   "metadata": {},
   "outputs": [],
   "source": [
    "%autoreload 2\n",
    "# swiss roll\n",
    "return_dict = swiss_roll(n_points, noise=0.925, dim=2, supersample=True)\n",
    "swiss_roll_data, color, swiss_roll_supersample, subsample_indices = return_dict['data'], return_dict['cluster'], return_dict['data_supersample'], return_dict['subsample_indices']\n",
    "plot_data_2D(swiss_roll_data, color, 'Swiss roll')"
   ]
  },
  {
   "cell_type": "code",
   "execution_count": null,
   "metadata": {},
   "outputs": [],
   "source": [
    "%autoreload 2\n",
    "n_neighbors = 20\n",
    "G, A = make_prox_graph(swiss_roll_data, mode='nbrs', n_neighbors=n_neighbors)\n",
    "plot_graph_2D(swiss_roll_data, G, 'Nearest neighbor graph', node_color=color[nx.nodes(G)])"
   ]
  },
  {
   "cell_type": "code",
   "execution_count": null,
   "metadata": {},
   "outputs": [],
   "source": [
    "%autoreload 2\n",
    "n_components = 1\n",
    "Y_spectral = spectral_embedding(A, n_components=n_components)\n",
    "plot_emb(Y_spectral, color, 'Spectral embedding')\n",
    "\n",
    "Y_isomap = isomap(A, n_components=1)\n",
    "plot_emb(Y_isomap, color, 'Isomap')"
   ]
  },
  {
   "cell_type": "code",
   "execution_count": null,
   "metadata": {},
   "outputs": [],
   "source": [
    "%autoreload 2\n",
    "return_dict = graph_orc(G, weight='unweighted_dist')\n",
    "G_orc = return_dict['G']\n",
    "scaled_orcs = return_dict['scaled_orcs']\n",
    "plot_graph_2D(swiss_roll_data, G_orc, 'Ollivier-Ricci curvature', edge_color=scaled_orcs, colorbar=True)\n"
   ]
  },
  {
   "cell_type": "code",
   "execution_count": null,
   "metadata": {},
   "outputs": [],
   "source": [
    "%autoreload 2\n",
    "# get edge attributes\n",
    "pruned = prune_adaptive(G_orc, swiss_roll_data, eps=None, lda=0.25, delta=1.5, cluster=None)\n",
    "plot_graph_2D(swiss_roll_data, pruned['G_pruned'], 'Pruned graph', edge_color=pruned['preserved_scaled_orcs'], colorbar=True)"
   ]
  },
  {
   "cell_type": "code",
   "execution_count": null,
   "metadata": {},
   "outputs": [],
   "source": [
    "%autoreload 2\n",
    "# run spectral embedding on pruned graph\n",
    "A_pruned = nx.adjacency_matrix(pruned['G_pruned']).toarray()\n",
    "Y = spectral_embedding(A_pruned, n_components=1)\n",
    "plot_emb(Y, color[list(pruned['G_pruned'])], 'Spectral embedding of pruned graph')\n",
    "\n",
    "# run isomap on pruned graph\n",
    "Y = isomap(A_pruned, n_components=1)\n",
    "plot_emb(Y, color[list(pruned['G_pruned'])], 'Isomap of pruned graph')"
   ]
  },
  {
   "cell_type": "code",
   "execution_count": null,
   "metadata": {},
   "outputs": [],
   "source": [
    "%autoreload 2\n",
    "G_supersample, A_supersample = make_prox_graph(swiss_roll_supersample, mode='nbrs', n_neighbors=n_neighbors)\n",
    "pruned_distortion = intercluster_distortion(\n",
    "    A_supersample, \n",
    "    A_pruned, \n",
    "    cluster=np.zeros(len(swiss_roll_data)), # one connected component \n",
    "    node_indices=list(pruned['G_pruned'].nodes()),\n",
    "    supersample=True,\n",
    "    subsample_indices=subsample_indices\n",
    ")\n",
    "unpruned_distortion = intercluster_distortion(\n",
    "    A_supersample, \n",
    "    A, \n",
    "    cluster=np.zeros(len(swiss_roll_data)), # one connected component \n",
    "    supersample=True,\n",
    "    subsample_indices=subsample_indices\n",
    ")\n",
    "print(f'Mean distortion of pruned graph: {np.mean(pruned_distortion)}')\n",
    "print(f'Mean distortion of unpruned graph: {np.mean(unpruned_distortion)}')"
   ]
  },
  {
   "cell_type": "code",
   "execution_count": null,
   "metadata": {},
   "outputs": [],
   "source": [
    "noises = [0.2, 0.25, 0.3, 0.35, 0.4]\n",
    "mean_max_orcs, std_max_orcs, noises = noise_vs_orc_experiment(\n",
    "    n_runs=5,\n",
    "    noises=noises,\n",
    "    data_function=torus,\n",
    "    data_function_kwargs={\n",
    "        'n_points': 2000,\n",
    "        'r': 1.5,\n",
    "        'R': 5,\n",
    "        'double': True\n",
    "    }\n",
    ")\n",
    "plot_line_graph(noises, mean_max_orcs, 'Noise vs. ORC: Double Torus', 'Noise', 'Max ORC of Spurious edges', filename='noise_vs_orc_double_torus.png', exp_name=exp_name, std=std_max_orcs)"
   ]
  },
  {
   "cell_type": "code",
   "execution_count": null,
   "metadata": {},
   "outputs": [],
   "source": [
    "%autoreload 2\n",
    "r = 1.5\n",
    "R = 5\n",
    "return_dict = torus(n_points = 2000, noise=0.28, r=r, R=R, double=True, supersample=True, supersample_factor=2.5)\n",
    "torus_double_points, color, cluster, torus_double_supersample, subsample_indices = return_dict['data'], return_dict['color'], return_dict['cluster'], return_dict['data_supersample'], return_dict['subsample_indices']\n",
    "# plot data\n",
    "plot_data_3D(torus_double_points, color, 'Double Torus')"
   ]
  },
  {
   "cell_type": "code",
   "execution_count": null,
   "metadata": {},
   "outputs": [],
   "source": [
    "# get graph\n",
    "n_neighbors = 20\n",
    "G, A = make_prox_graph(torus_double_points, mode='nbrs', n_neighbors=n_neighbors)\n",
    "# print number of connected components of A\n",
    "print('Number of connected components of A: ', nx.number_connected_components(nx.from_numpy_array(A)))\n",
    "plot_graph_3D(torus_double_points, G, 'Nearest neighbor graph', node_color=color)"
   ]
  },
  {
   "cell_type": "code",
   "execution_count": null,
   "metadata": {},
   "outputs": [],
   "source": [
    "%autoreload 2\n",
    "# orc\n",
    "return_dict = graph_orc(G, weight='unweighted_dist')\n",
    "G_orc = return_dict['G']\n",
    "scaled_orcs = return_dict['scaled_orcs']\n",
    "wasserstein_distances = return_dict['wasserstein_distances']\n",
    "\n",
    "plot_graph_3D(torus_double_points, G_orc, 'Ollivier-Ricci curvature', edge_color=scaled_orcs, colorbar=True)\n",
    "return_dict = spurious_edge_orc(G_orc, cluster)\n",
    "spurious_edge_scaled_orcs = return_dict['spurious_edge_scaled_orcs']\n",
    "spurious_edge_distances = return_dict['spurious_edge_distances']\n",
    "spurious_edge_scaled_orcs = np.clip(spurious_edge_scaled_orcs, -5, 5)\n",
    "spurious_edge_wasserstein_distances = return_dict['spurious_edge_wasserstein_distances']\n",
    "\n",
    "# all_edge_scaled_orcs = np.clip(scaled_orcs, -5, 5)\n",
    "# all_edge_distances = np.array([G_orc[u][v]['weight'] for u, v in G_orc.edges])\n",
    "\n",
    "# histogram([spurious_edge_scaled_orcs, all_edge_scaled_orcs], 'Spurious edge Ollivier-Ricci curvature', 'Ollivier-Ricci curvature z-score', 'Density', legend=['Spurious edges', 'All edges'], bins=20)\n",
    "# plot_scatter(\n",
    "#     [all_edge_distances, spurious_edge_distances],\n",
    "#     [all_edge_scaled_orcs, spurious_edge_scaled_orcs],\n",
    "#     'Ollivier-Ricci curvature vs. distance',\n",
    "#     'Distance',\n",
    "#     'Ollivier-Ricci curvature z-score',\n",
    "#     ['All edges', 'Spurious edges'],\n",
    "#     color=['#ff7f0e','#1f77b4']\n",
    "\n",
    "# )\n",
    "# histogram([spurious_edge_wasserstein_distances, wasserstein_distances], 'Spurious edge Wasserstein distance', 'Wasserstein distance', 'Density', legend=['Spurious edges', 'All edges'], bins=20)\n",
    "# plot_scatter(\n",
    "#     [all_edge_distances, spurious_edge_distances],\n",
    "#     [wasserstein_distances, spurious_edge_wasserstein_distances],\n",
    "#     'Wasserstein distance vs. distance',\n",
    "#     'Distance',\n",
    "#     'Wasserstein distance',\n",
    "#     ['All edges', 'Spurious edges'],\n",
    "#     color=['#ff7f0e','#1f77b4']\n",
    "# )"
   ]
  },
  {
   "cell_type": "code",
   "execution_count": null,
   "metadata": {},
   "outputs": [],
   "source": [
    "%autoreload 2\n",
    "# get edge attributes\n",
    "pruned = prune_adaptive(G_orc, torus_double_points, eps=None, lda=0.1, delta=1.5, cluster=cluster)\n",
    "plot_graph_3D(torus_double_points, pruned['G_pruned'], 'Pruned graph', edge_color=pruned['preserved_scaled_orcs'], colorbar=True)\n",
    "\n",
    "A_pruned = nx.adjacency_matrix(pruned['G_pruned']).toarray()\n",
    "# print number of connected components of A\n",
    "print('Number of connected components of A_pruned: ', nx.number_connected_components(nx.from_numpy_array(A_pruned)))"
   ]
  },
  {
   "cell_type": "code",
   "execution_count": null,
   "metadata": {},
   "outputs": [],
   "source": [
    "%autoreload 2\n",
    "G_supersample, A_supersample = make_prox_graph(torus_double_supersample, mode='nbrs', n_neighbors=n_neighbors)\n",
    "pruned_distortion = intercluster_distortion(\n",
    "    A_supersample, \n",
    "    A_pruned, \n",
    "    cluster, \n",
    "    node_indices=list(pruned['G_pruned'].nodes()),\n",
    "    supersample=True,\n",
    "    subsample_indices=subsample_indices\n",
    ")\n",
    "unpruned_distortion = intercluster_distortion(\n",
    "    A_supersample, \n",
    "    A, \n",
    "    cluster, \n",
    "    supersample=True,\n",
    "    subsample_indices=subsample_indices\n",
    ")\n",
    "print(f'Mean distortion of pruned graph: {np.mean(pruned_distortion)}')\n",
    "print(f'Mean distortion of unpruned graph: {np.mean(unpruned_distortion)}')"
   ]
  },
  {
   "cell_type": "code",
   "execution_count": null,
   "metadata": {},
   "outputs": [],
   "source": [
    "noises = [0.04, 0.06, 0.08, 0.1, 0.12]\n",
    "mean_max_orcs, std_max_orcs, noises = noise_vs_orc_experiment(\n",
    "    n_runs=5,\n",
    "    noises=noises,\n",
    "    data_function=hyperboloid,\n",
    "    data_function_kwargs={\n",
    "        'n_points': 2000,\n",
    "        'double': True\n",
    "    }\n",
    ")\n",
    "plot_line_graph(noises, mean_max_orcs, 'Noise vs. ORC: Double Hyperboloid', 'Noise', 'Max ORC of Spurious edges', filename='noise_vs_orc_double_hyperboloid.png', exp_name=exp_name, std=std_max_orcs)"
   ]
  },
  {
   "cell_type": "code",
   "execution_count": null,
   "metadata": {},
   "outputs": [],
   "source": [
    "%autoreload 2\n",
    "return_dict = hyperboloid(n_points = 3000, noise=0.09, double=True, supersample=True, supersample_factor=2.5)\n",
    "double_hyperboloid_data, color, cluster, hyperboloid_subsample, subsample_indices = return_dict['data'], return_dict['color'], return_dict['cluster'], return_dict['data_supersample'], return_dict['subsample_indices']\n",
    "plot_data_3D(double_hyperboloid_data, color, 'Double Hyperboloid')"
   ]
  },
  {
   "cell_type": "code",
   "execution_count": null,
   "metadata": {},
   "outputs": [],
   "source": [
    "# get graph\n",
    "n_neighbors = 20\n",
    "G, A = make_prox_graph(double_hyperboloid_data, mode='nbrs', n_neighbors=n_neighbors)\n",
    "# print number of connected components of A\n",
    "print('Number of connected components of A: ', nx.number_connected_components(nx.from_numpy_array(A)))\n",
    "plot_graph_3D(double_hyperboloid_data, G, 'Nearest neighbor graph', node_color=color)"
   ]
  },
  {
   "cell_type": "code",
   "execution_count": null,
   "metadata": {},
   "outputs": [],
   "source": [
    "# orc\n",
    "return_dict = graph_orc(G, weight='unweighted_dist')\n",
    "G_orc = return_dict['G']\n",
    "scaled_orcs = return_dict['scaled_orcs']\n",
    "wasserstein_distances = return_dict['wasserstein_distances']\n",
    "\n",
    "plot_graph_3D(double_hyperboloid_data, G_orc, 'Ollivier-Ricci curvature', edge_color=scaled_orcs, colorbar=True)\n",
    "# return_dict = spurious_edge_orc(G_orc, cluster)\n",
    "# spurious_edge_orcs = return_dict['spurious_edge_scaled_orcs']\n",
    "# spurious_edge_orcs = np.clip(spurious_edge_orcs, -5, 5)\n",
    "# spurious_edge_distances = return_dict['spurious_edge_distances']\n",
    "# spurious_edge_wasserstein_distances = return_dict['spurious_edge_wasserstein_distances']\n",
    "\n",
    "# all_edge_scaled_orcs = np.clip(scaled_orcs, -5, 5)\n",
    "# all_edge_distances = np.array([G_orc[u][v]['weight'] for u, v in G_orc.edges])\n",
    "# histogram([spurious_edge_orcs, all_edge_scaled_orcs], 'Spurious edge Ollivier-Ricci curvature', 'Ollivier-Ricci curvature z-score', 'Density', legend=['Spurious edges', 'All edges'], bins=20)\n",
    "# plot_scatter(\n",
    "#     [all_edge_distances, spurious_edge_distances],\n",
    "#     [all_edge_scaled_orcs, spurious_edge_orcs],\n",
    "#     'Ollivier-Ricci curvature vs. distance',\n",
    "#     'Distance',\n",
    "#     'Ollivier-Ricci curvature z-score',\n",
    "#     ['All edges', 'Spurious edges'],\n",
    "#     color=['#ff7f0e','#1f77b4']\n",
    "\n",
    "# )\n",
    "# histogram([spurious_edge_wasserstein_distances, wasserstein_distances], 'Spurious edge Wasserstein distance', 'Wasserstein distance', 'Density', legend=['Spurious edges', 'All edges'], bins=20)\n",
    "# plot_scatter(\n",
    "#     [all_edge_distances, spurious_edge_distances],\n",
    "#     [wasserstein_distances, spurious_edge_wasserstein_distances],\n",
    "#     'Wasserstein distance vs. distance',\n",
    "#     'Distance',\n",
    "#     'Wasserstein distance',\n",
    "#     ['All edges', 'Spurious edges'],\n",
    "#     color=['#ff7f0e','#1f77b4']\n",
    "# )"
   ]
  },
  {
   "cell_type": "code",
   "execution_count": null,
   "metadata": {},
   "outputs": [],
   "source": [
    "%autoreload 2\n",
    "# get edge attributes\n",
    "pruned = prune_adaptive(G_orc, double_hyperboloid_data, eps=None, lda=0.25, delta=1.5, cluster=cluster)\n",
    "plot_graph_3D(double_hyperboloid_data, pruned['G_pruned'], 'Pruned graph', edge_color=pruned['preserved_scaled_orcs'], colorbar=True)\n",
    "\n",
    "A_pruned = nx.adjacency_matrix(pruned['G_pruned']).toarray()\n",
    "# print number of connected components of A\n",
    "print('Number of connected components of A_pruned: ', nx.number_connected_components(nx.from_numpy_array(A_pruned)))"
   ]
  },
  {
   "cell_type": "code",
   "execution_count": null,
   "metadata": {},
   "outputs": [],
   "source": [
    "%autoreload 2\n",
    "G_supersample, A_supersample = make_prox_graph(hyperboloid_subsample, mode='nbrs', n_neighbors=n_neighbors)\n",
    "pruned_distortion = intercluster_distortion(\n",
    "    A_supersample, \n",
    "    A_pruned, \n",
    "    cluster, \n",
    "    node_indices=list(pruned['G_pruned'].nodes()),\n",
    "    supersample=True,\n",
    "    subsample_indices=subsample_indices\n",
    ")\n",
    "unpruned_distortion = intercluster_distortion(\n",
    "    A_supersample, \n",
    "    A, \n",
    "    cluster, \n",
    "    supersample=True,\n",
    "    subsample_indices=subsample_indices\n",
    ")\n",
    "print(f'Mean distortion of pruned graph: {np.mean(pruned_distortion)}')\n",
    "print(f'Mean distortion of unpruned graph: {np.mean(unpruned_distortion)}')"
   ]
  },
  {
   "cell_type": "code",
   "execution_count": null,
   "metadata": {},
   "outputs": [],
   "source": []
  }
 ],
 "metadata": {
  "kernelspec": {
   "display_name": "laplacians",
   "language": "python",
   "name": "python3"
  },
  "language_info": {
   "codemirror_mode": {
    "name": "ipython",
    "version": 3
   },
   "file_extension": ".py",
   "mimetype": "text/x-python",
   "name": "python",
   "nbconvert_exporter": "python",
   "pygments_lexer": "ipython3",
   "version": "3.8.10"
  }
 },
 "nbformat": 4,
 "nbformat_minor": 2
}

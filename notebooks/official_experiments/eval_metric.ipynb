{
 "cells": [
  {
   "cell_type": "code",
   "execution_count": null,
   "metadata": {},
   "outputs": [],
   "source": [
    "from src.data.data import *\n",
    "from src.embedor import *\n",
    "from src.plotting import *\n",
    "import pandas as pd\n",
    "# from sklearn_extra.cluster import KMedoids\n",
    "from sklearn.cluster import HDBSCAN\n",
    "import seaborn as sns\n",
    "sns.set_theme()\n",
    "%load_ext autoreload"
   ]
  },
  {
   "cell_type": "code",
   "execution_count": null,
   "metadata": {},
   "outputs": [],
   "source": [
    "# concentric circles\n",
    "%autoreload 2\n",
    "n_points = 2500\n",
    "noise = 0.1\n",
    "noise_thresh = None\n",
    "return_dict = concentric_circles(n_points=n_points, factor=0.4, noise=noise, noise_thresh=noise_thresh)\n",
    "labels = return_dict['cluster']"
   ]
  },
  {
   "cell_type": "code",
   "execution_count": null,
   "metadata": {},
   "outputs": [],
   "source": [
    "%autoreload 2\n",
    "# embedor apsp\n",
    "embedor = EmbedOR()\n",
    "emb = embedor.fit_transform(return_dict['data'])"
   ]
  },
  {
   "cell_type": "code",
   "execution_count": null,
   "metadata": {},
   "outputs": [],
   "source": [
    "# isomap apsp\n",
    "A_euc = nx.to_numpy_array(embedor.G, weight='weight')\n",
    "apsp_euc = scipy.sparse.csgraph.shortest_path(A_euc, unweighted=False, directed=False)"
   ]
  },
  {
   "cell_type": "code",
   "execution_count": null,
   "metadata": {},
   "outputs": [],
   "source": [
    "# diffusion distance\n",
    "from pydiffmap import diffusion_map as dm\n",
    "# dmap = dm.DiffusionMap.from_sklearn(n_evecs=10)\n",
    "def diffusion_transition_matrix(W, epsilon):\n",
    "    \"\"\"\n",
    "    Compute the transition matrix for diffusion maps from a weighted adjacency matrix.\n",
    "\n",
    "    Parameters:\n",
    "        W (numpy.ndarray): Weighted adjacency matrix (NxN).\n",
    "\n",
    "    Returns:\n",
    "        numpy.ndarray: Transition matrix (NxN).\n",
    "    \"\"\"\n",
    "    # symmetrize the matrix\n",
    "    W = (W + W.T) / 2\n",
    "    edge_mask = W > 0\n",
    "    # convert to affinity matrix\n",
    "    W = np.exp(-W**2 / epsilon)\n",
    "    W[~edge_mask] = 0  # Set non-edges to zero\n",
    "    D = np.sum(W, axis=1)  # Compute the degree vector\n",
    "    D_inv = np.diag(1.0 / D)  # Compute D^(-1)\n",
    "    \n",
    "    return D_inv @ W  # Compute P = D^(-1) W\n",
    "\n",
    "transition_mat = diffusion_transition_matrix(A_euc, epsilon=0.8)\n",
    "assert np.allclose(np.sum(transition_mat, axis=1), 1), \"Transition matrix rows do not sum to 1.\"\n",
    "ts = [10, 20, 40]\n",
    "transition_mat_list = [np.linalg.matrix_power(transition_mat, t) for t in ts]\n",
    "# compute pairwise distance by taking euclidean distance of columns\n",
    "from sklearn.metrics import pairwise_distances\n",
    "diff_dists = [pairwise_distances(transition_mat, transition_mat)**2 for transition_mat in transition_mat_list]"
   ]
  },
  {
   "cell_type": "code",
   "execution_count": null,
   "metadata": {},
   "outputs": [],
   "source": [
    "dbscan_ambient = HDBSCAN().fit(return_dict['data'])\n",
    "dbscan_energy = HDBSCAN(metric='precomputed').fit(embedor.apsp_energy)\n",
    "dbscan_euc = HDBSCAN(metric='precomputed').fit(apsp_euc)\n",
    "dbscan_diff = HDBSCAN(metric='precomputed').fit(diff_dists[0])\n",
    "dbscan_diff2 = HDBSCAN(metric='precomputed').fit(diff_dists[1])\n",
    "dbscan_diff3 = HDBSCAN(metric='precomputed').fit(diff_dists[2])"
   ]
  },
  {
   "cell_type": "code",
   "execution_count": null,
   "metadata": {},
   "outputs": [],
   "source": [
    "# compute adjusted rand index\n",
    "from sklearn.metrics import adjusted_rand_score\n",
    "# adjusted rand index\n",
    "ari_ambient = adjusted_rand_score(labels, dbscan_ambient.labels_)\n",
    "ari_energy = adjusted_rand_score(labels, dbscan_energy.labels_)\n",
    "ari_euc = adjusted_rand_score(labels, dbscan_euc.labels_)\n",
    "ari_diff = adjusted_rand_score(labels, dbscan_diff.labels_)\n",
    "ari_diff2 = adjusted_rand_score(labels, dbscan_diff2.labels_)\n",
    "ari_diff3 = adjusted_rand_score(labels, dbscan_diff3.labels_)\n",
    "\n",
    "print(f'Adjusted Rand Index (ambient): {ari_ambient}')\n",
    "print(f'Adjusted Rand Index (energy): {ari_energy}')\n",
    "print(f'Adjusted Rand Index (euclidean): {ari_euc}')\n",
    "print(f'Adjusted Rand Index (diffusion, t={ts[0]}): {ari_diff}')\n",
    "print(f'Adjusted Rand Index (diffusion, t={ts[1]}): {ari_diff2}')\n",
    "print(f'Adjusted Rand Index (diffusion, t={ts[2]}): {ari_diff3}')\n"
   ]
  },
  {
   "cell_type": "code",
   "execution_count": null,
   "metadata": {},
   "outputs": [],
   "source": [
    "embedor.plot_spectral_init()"
   ]
  },
  {
   "cell_type": "code",
   "execution_count": null,
   "metadata": {},
   "outputs": [],
   "source": [
    "def energy_to_affinity(energy, sigma):\n",
    "    affinity = np.exp(-sigma*energy**2)\n",
    "    return affinity\n",
    "\n",
    "apsp_energy = embedor.apsp_energy.copy()\n",
    "apsp_affinities = energy_to_affinity(apsp_energy, 1)\n",
    "plt.figure(figsize=(10, 10))\n",
    "sns.heatmap(apsp_affinities, cmap='viridis', cbar=False, xticklabels=False, yticklabels=False)\n",
    "\n",
    "euc_affinities = energy_to_affinity(apsp_euc, 1)\n",
    "# plot heatmap\n",
    "plt.figure(figsize=(10, 10))\n",
    "sns.heatmap(euc_affinities, cmap='viridis', cbar=False, xticklabels=False, yticklabels=False)\n",
    "\n",
    "# plot heatmap\n",
    "diff_affinities = energy_to_affinity(diff_dists[0], 1)\n",
    "plt.figure(figsize=(10, 10))\n",
    "sns.heatmap(diff_affinities, cmap='viridis', cbar=False, xticklabels=False, yticklabels=False)\n",
    "\n",
    "# plot heatmap\n",
    "diff_affinities2 = energy_to_affinity(diff_dists[1], 1)\n",
    "plt.figure(figsize=(10, 10))\n",
    "sns.heatmap(diff_affinities2, cmap='viridis', cbar=False, xticklabels=False, yticklabels=False)\n",
    "\n",
    "# plot heatmap\n",
    "diff_affinities3 = energy_to_affinity(diff_dists[2], 1)\n",
    "plt.figure(figsize=(10, 10))\n",
    "sns.heatmap(diff_affinities3, cmap='viridis', cbar=False, xticklabels=False, yticklabels=False)"
   ]
  },
  {
   "cell_type": "code",
   "execution_count": null,
   "metadata": {},
   "outputs": [],
   "source": [
    "%autoreload 2\n",
    "n_points = 3000\n",
    "noise = 0.5\n",
    "noise_thresh = None\n",
    "return_dict = torus(n_points=n_points, noise=noise, noise_thresh=noise_thresh, supersample=False, double=True)\n",
    "labels = return_dict['cluster']\n",
    "# sort by label\n",
    "sort_idx = np.argsort(labels)\n",
    "return_dict['data'] = return_dict['data'][sort_idx]\n",
    "labels = labels[sort_idx]"
   ]
  },
  {
   "cell_type": "code",
   "execution_count": null,
   "metadata": {},
   "outputs": [],
   "source": [
    "%autoreload 2\n",
    "# embedor apsp\n",
    "embedor = EmbedOR()\n",
    "emb = embedor.fit_transform(return_dict['data'])"
   ]
  },
  {
   "cell_type": "code",
   "execution_count": null,
   "metadata": {},
   "outputs": [],
   "source": [
    "# isomap apsp\n",
    "A_euc = nx.to_numpy_array(embedor.G, weight='weight')\n",
    "apsp_euc = scipy.sparse.csgraph.shortest_path(A_euc, unweighted=False, directed=False)"
   ]
  },
  {
   "cell_type": "code",
   "execution_count": null,
   "metadata": {},
   "outputs": [],
   "source": [
    "\n",
    "transition_mat = diffusion_transition_matrix(A_euc, epsilon=0.8)\n",
    "assert np.allclose(np.sum(transition_mat, axis=1), 1), \"Transition matrix rows do not sum to 1.\"\n",
    "ts = [10, 20, 40]\n",
    "transition_mat_list = [np.linalg.matrix_power(transition_mat, t) for t in ts]\n",
    "# compute pairwise distance by taking euclidean distance of columns\n",
    "from sklearn.metrics import pairwise_distances\n",
    "diff_dists = [pairwise_distances(transition_mat, transition_mat)**2 for transition_mat in transition_mat_list]"
   ]
  },
  {
   "cell_type": "code",
   "execution_count": null,
   "metadata": {},
   "outputs": [],
   "source": [
    "dbscan_ambient = HDBSCAN().fit(return_dict['data'])\n",
    "dbscan_energy = HDBSCAN(metric='precomputed').fit(embedor.apsp_energy)\n",
    "dbscan_euc = HDBSCAN(metric='precomputed').fit(apsp_euc)\n",
    "dbscan_diff = HDBSCAN(metric='precomputed').fit(diff_dists[0])\n",
    "dbscan_diff2 = HDBSCAN(metric='precomputed').fit(diff_dists[1])\n",
    "dbscan_diff3 = HDBSCAN(metric='precomputed').fit(diff_dists[2])"
   ]
  },
  {
   "cell_type": "code",
   "execution_count": null,
   "metadata": {},
   "outputs": [],
   "source": [
    "# compute adjusted rand index\n",
    "from sklearn.metrics import adjusted_rand_score\n",
    "# adjusted rand index\n",
    "ari_ambient = adjusted_rand_score(labels, dbscan_ambient.labels_)\n",
    "ari_energy = adjusted_rand_score(labels, dbscan_energy.labels_)\n",
    "ari_euc = adjusted_rand_score(labels, dbscan_euc.labels_)\n",
    "ari_diff = adjusted_rand_score(labels, dbscan_diff.labels_)\n",
    "ari_diff2 = adjusted_rand_score(labels, dbscan_diff2.labels_)\n",
    "ari_diff3 = adjusted_rand_score(labels, dbscan_diff3.labels_)\n",
    "\n",
    "print(f'Adjusted Rand Index (ambient): {ari_ambient}')\n",
    "print(f'Adjusted Rand Index (energy): {ari_energy}')\n",
    "print(f'Adjusted Rand Index (euclidean): {ari_euc}')\n",
    "print(f'Adjusted Rand Index (diffusion, t={ts[0]}): {ari_diff}')\n",
    "print(f'Adjusted Rand Index (diffusion, t={ts[1]}): {ari_diff2}')\n",
    "print(f'Adjusted Rand Index (diffusion, t={ts[2]}): {ari_diff3}')\n"
   ]
  },
  {
   "cell_type": "code",
   "execution_count": null,
   "metadata": {},
   "outputs": [],
   "source": [
    "embedor.plot_spectral_init()"
   ]
  },
  {
   "cell_type": "code",
   "execution_count": null,
   "metadata": {},
   "outputs": [],
   "source": [
    "def energy_to_affinity(energy, sigma):\n",
    "    affinity = np.exp(-sigma*energy**2)\n",
    "    return affinity\n",
    "\n",
    "apsp_energy = embedor.apsp_energy.copy()\n",
    "apsp_affinities = energy_to_affinity(apsp_energy, 1)\n",
    "plt.figure(figsize=(10, 10))\n",
    "sns.heatmap(apsp_affinities, cmap='viridis', cbar=False, xticklabels=False, yticklabels=False)\n",
    "\n",
    "euc_affinities = energy_to_affinity(apsp_euc, 0.01)\n",
    "# plot heatmap\n",
    "plt.figure(figsize=(10, 10))\n",
    "sns.heatmap(euc_affinities, cmap='viridis', cbar=False, xticklabels=False, yticklabels=False)\n",
    "\n",
    "# plot heatmap\n",
    "diff_affinities = energy_to_affinity(diff_dists[0], 1)\n",
    "plt.figure(figsize=(10, 10))\n",
    "sns.heatmap(diff_affinities, cmap='viridis', cbar=False, xticklabels=False, yticklabels=False)\n",
    "\n",
    "# plot heatmap\n",
    "diff_affinities2 = energy_to_affinity(diff_dists[1], 1)\n",
    "plt.figure(figsize=(10, 10))\n",
    "sns.heatmap(diff_affinities2, cmap='viridis', cbar=False, xticklabels=False, yticklabels=False)\n",
    "\n",
    "# plot heatmap\n",
    "diff_affinities3 = energy_to_affinity(diff_dists[2], 1)\n",
    "plt.figure(figsize=(10, 10))\n",
    "sns.heatmap(diff_affinities3, cmap='viridis', cbar=False, xticklabels=False, yticklabels=False)"
   ]
  },
  {
   "cell_type": "code",
   "execution_count": null,
   "metadata": {},
   "outputs": [],
   "source": []
  }
 ],
 "metadata": {
  "kernelspec": {
   "display_name": "isorc",
   "language": "python",
   "name": "python3"
  },
  "language_info": {
   "codemirror_mode": {
    "name": "ipython",
    "version": 3
   },
   "file_extension": ".py",
   "mimetype": "text/x-python",
   "name": "python",
   "nbconvert_exporter": "python",
   "pygments_lexer": "ipython3",
   "version": "3.10.12"
  }
 },
 "nbformat": 4,
 "nbformat_minor": 2
}

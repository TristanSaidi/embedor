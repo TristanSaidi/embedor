{
 "cells": [
  {
   "cell_type": "code",
   "execution_count": null,
   "metadata": {},
   "outputs": [],
   "source": [
    "from src.data.data import *\n",
    "from src.plotting import *\n",
    "from src.utils.graph_utils import *\n",
    "# from src.isorc import *\n",
    "from src.embedor import *\n",
    "from src.utils.embeddings import *\n",
    "from sklearn.manifold import TSNE\n",
    "import umap\n",
    "import numpy as np\n",
    "from sklearn.manifold import TSNE\n",
    "import phate\n",
    "\n",
    "%load_ext autoreload"
   ]
  },
  {
   "cell_type": "code",
   "execution_count": null,
   "metadata": {},
   "outputs": [],
   "source": [
    "save_path = '/home/tristan/Research/Fa24/isorc/outputs/tSNE_failure_cases'\n",
    "os.makedirs(save_path, exist_ok=True)\n",
    "\n",
    "from datetime import datetime\n",
    "now = datetime.now()\n",
    "dt_string = now.strftime(\"%Y-%m-%d %H:%M:%S\")\n",
    "os.makedirs(os.path.join(save_path, dt_string), exist_ok=True)"
   ]
  },
  {
   "cell_type": "code",
   "execution_count": null,
   "metadata": {},
   "outputs": [],
   "source": [
    "# moons\n",
    "return_dict = moons(n_points=3000, noise=0.125, noise_thresh=None)\n",
    "X = return_dict['data']"
   ]
  },
  {
   "cell_type": "code",
   "execution_count": null,
   "metadata": {},
   "outputs": [],
   "source": [
    "# run embedor\n",
    "embedor = EmbedOR()\n",
    "X_emb = embedor.fit_transform(X)\n",
    "plt.figure(figsize=(10, 10))\n",
    "plot_graph_2D(X_emb, embedor.G, node_color=return_dict['cluster'][embedor.G.nodes()], edge_width=0, title=None, cmap=plt.cm.berlin)\n",
    "plt.savefig(os.path.join(save_path, dt_string, 'embedor_moons.png'), dpi=1200)"
   ]
  },
  {
   "cell_type": "code",
   "execution_count": null,
   "metadata": {},
   "outputs": [],
   "source": [
    "# run tSNE\n",
    "tsne = TSNE(n_components=2, random_state=0, init='random')\n",
    "X_tsne = tsne.fit_transform(X)\n",
    "plt.figure(figsize=(10, 10))\n",
    "plot_graph_2D(X_tsne, embedor.G, node_color=return_dict['cluster'][embedor.G.nodes()], edge_width=0, title=None, cmap=plt.cm.berlin)\n",
    "plt.savefig(os.path.join(save_path, dt_string, 'tsne_moons.png'), dpi=1200)"
   ]
  },
  {
   "cell_type": "code",
   "execution_count": null,
   "metadata": {},
   "outputs": [],
   "source": [
    "# plot original data\n",
    "plt.figure(figsize=(10, 10))\n",
    "plot_graph_2D(X, embedor.G, node_color=return_dict['cluster'][embedor.G.nodes()], edge_width=0, title=None, cmap=plt.cm.berlin)\n",
    "plt.savefig(os.path.join(save_path, dt_string, 'original_moons.png'), dpi=1200)"
   ]
  },
  {
   "cell_type": "code",
   "execution_count": null,
   "metadata": {},
   "outputs": [],
   "source": [
    "# double swiss roll\n",
    "%autoreload 2\n",
    "from src.data import *\n",
    "return_dict = swiss_roll(n_points=3000, noise=0.125, noise_thresh=None, double=True)\n",
    "X = return_dict['data']"
   ]
  },
  {
   "cell_type": "code",
   "execution_count": null,
   "metadata": {},
   "outputs": [],
   "source": [
    "# run embedor\n",
    "embedor = EmbedOR()\n",
    "X_emb = embedor.fit_transform(X)\n",
    "plt.figure(figsize=(10, 10))\n",
    "plot_graph_2D(X_emb, embedor.G, node_color=return_dict['cluster'][embedor.G.nodes()], edge_width=0, title=None, cmap=plt.cm.berlin)\n",
    "plt.savefig(os.path.join(save_path, dt_string, 'embedor_double_swiss_roll.png'), dpi=1200)"
   ]
  },
  {
   "cell_type": "code",
   "execution_count": null,
   "metadata": {},
   "outputs": [],
   "source": [
    "# run tSNE\n",
    "tsne = TSNE(n_components=2, random_state=0)\n",
    "X_tsne = tsne.fit_transform(X)\n",
    "plt.figure(figsize=(10, 10))\n",
    "plot_graph_2D(X_tsne, embedor.G, node_color=return_dict['cluster'][embedor.G.nodes()], edge_width=0, title=None, cmap=plt.cm.berlin)\n",
    "plt.savefig(os.path.join(save_path, dt_string, 'tsne_double_swiss_roll.png'), dpi=1200)"
   ]
  },
  {
   "cell_type": "code",
   "execution_count": null,
   "metadata": {},
   "outputs": [],
   "source": [
    "# plot the original data\n",
    "plt.figure(figsize=(10, 10))\n",
    "plot_graph_2D(X[:, [0,2]], embedor.G, node_color=return_dict['cluster'][embedor.G.nodes()], edge_width=0, title=None, cmap=plt.cm.berlin)\n",
    "plt.savefig(os.path.join(save_path, dt_string, 'original_double_swiss_roll.png'), dpi=1200)"
   ]
  },
  {
   "cell_type": "code",
   "execution_count": null,
   "metadata": {},
   "outputs": [],
   "source": []
  }
 ],
 "metadata": {
  "kernelspec": {
   "display_name": "isorc",
   "language": "python",
   "name": "python3"
  },
  "language_info": {
   "codemirror_mode": {
    "name": "ipython",
    "version": 3
   },
   "file_extension": ".py",
   "mimetype": "text/x-python",
   "name": "python",
   "nbconvert_exporter": "python",
   "pygments_lexer": "ipython3",
   "version": "3.10.12"
  }
 },
 "nbformat": 4,
 "nbformat_minor": 2
}

{
 "cells": [
  {
   "cell_type": "code",
   "execution_count": null,
   "metadata": {},
   "outputs": [],
   "source": [
    "import velocyto as vcy\n",
    "import numpy as np\n",
    "import matplotlib.pyplot as plt\n",
    "from src.vis import *\n",
    "%load_ext autoreload"
   ]
  },
  {
   "cell_type": "code",
   "execution_count": null,
   "metadata": {},
   "outputs": [],
   "source": [
    "import os\n",
    "save_path = '/home/tristan/Research/Fa24/isorc/outputs/trajectory_inference'\n",
    "os.makedirs(save_path, exist_ok=True)\n",
    "\n",
    "from datetime import datetime\n",
    "now = datetime.now()\n",
    "dt_string = now.strftime(\"%Y-%m-%d %H:%M:%S\")\n",
    "os.makedirs(os.path.join(save_path, dt_string), exist_ok=True)"
   ]
  },
  {
   "cell_type": "code",
   "execution_count": null,
   "metadata": {},
   "outputs": [],
   "source": [
    "%autoreload 2\n",
    "vlm = vcy.VelocytoLoom(loom_filepath=\"../../data/chari_pachter_data/hgForebrainGlut.loom\")\n",
    "preprocess(vlm)\n",
    "\n",
    "fig = plt.figure(figsize=(10, 10))\n",
    "ax = fig.gca()\n",
    "steps = (20,20)\n",
    "gridArrowPlots(vlm,Trans=[\"sqrt\"],embed=\"EmbedOR\",sim=False,ax=ax,quiver_scale=10,plot_baseline=False,legend=False,steps=steps,n_neighbors=15, title=False)\n",
    "fig.savefig(os.path.join(save_path, dt_string, \"EmbedOR.png\"), dpi=1200)\n",
    "\n",
    "fig = plt.figure(figsize=(10, 10))\n",
    "ax = fig.gca()\n",
    "steps = (20,20)\n",
    "gridArrowPlots(vlm,Trans=[\"sqrt\"],embed=\"UMAP\",sim=False,ax=ax,quiver_scale=10,plot_baseline=False,legend=False,steps=steps,n_neighbors=15, title=False)\n",
    "fig.savefig(os.path.join(save_path, dt_string, \"UMAP.png\"), dpi=1200)\n",
    "\n",
    "fig = plt.figure(figsize=(10, 10))\n",
    "ax = fig.gca()\n",
    "steps = (20,20)\n",
    "gridArrowPlots(vlm,Trans=[\"sqrt\"],embed=\"tSNE\",sim=False,ax=ax,quiver_scale=10,plot_baseline=False,legend=False,steps=steps,n_neighbors=15, title=False)\n",
    "fig.savefig(os.path.join(save_path, dt_string, \"tSNE.png\"), dpi=1200)\n",
    "\n",
    "fig = plt.figure(figsize=(10, 10))\n",
    "ax = fig.gca()\n",
    "steps = (20,20)\n",
    "gridArrowPlots(vlm,Trans=[\"sqrt\"],embed=\"PHATE\",sim=False,ax=ax,quiver_scale=10,plot_baseline=False,legend=False,steps=steps,n_neighbors=15, title=False)\n",
    "fig.savefig(os.path.join(save_path, dt_string, \"PHATE.png\"), dpi=1200)\n",
    "\n"
   ]
  },
  {
   "cell_type": "code",
   "execution_count": null,
   "metadata": {},
   "outputs": [],
   "source": []
  },
  {
   "cell_type": "code",
   "execution_count": null,
   "metadata": {},
   "outputs": [],
   "source": []
  }
 ],
 "metadata": {
  "kernelspec": {
   "display_name": "isorc",
   "language": "python",
   "name": "python3"
  },
  "language_info": {
   "codemirror_mode": {
    "name": "ipython",
    "version": 3
   },
   "file_extension": ".py",
   "mimetype": "text/x-python",
   "name": "python",
   "nbconvert_exporter": "python",
   "pygments_lexer": "ipython3",
   "version": "3.10.12"
  }
 },
 "nbformat": 4,
 "nbformat_minor": 2
}
